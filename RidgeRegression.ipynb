{
  "nbformat": 4,
  "nbformat_minor": 0,
  "metadata": {
    "colab": {
      "name": "RidgeRegression.ipynb",
      "provenance": [],
      "authorship_tag": "ABX9TyMq5yv4v+EVPH+LJyr3WMea",
      "include_colab_link": true
    },
    "kernelspec": {
      "name": "python3",
      "display_name": "Python 3"
    },
    "language_info": {
      "name": "python"
    }
  },
  "cells": [
    {
      "cell_type": "markdown",
      "metadata": {
        "id": "view-in-github",
        "colab_type": "text"
      },
      "source": [
        "<a href=\"https://colab.research.google.com/github/MohammadrezaPourreza/Scikit-learn-tutorial/blob/main/RidgeRegression.ipynb\" target=\"_parent\"><img src=\"https://colab.research.google.com/assets/colab-badge.svg\" alt=\"Open In Colab\"/></a>"
      ]
    },
    {
      "cell_type": "markdown",
      "source": [
        "RidgeRegression = the module used to solve a regression model where loss function is the linear least squares function and regularization is L2."
      ],
      "metadata": {
        "id": "opSCLakpjF43"
      }
    },
    {
      "cell_type": "markdown",
      "source": [
        "**PARAMETERS**"
      ],
      "metadata": {
        "id": "413gIPEAjKGO"
      }
    },
    {
      "cell_type": "markdown",
      "source": [
        "alpha = Alpha is the tuning parameter that decides how much we want to penalize the model."
      ],
      "metadata": {
        "id": "i6bTo6SIjPFG"
      }
    },
    {
      "cell_type": "markdown",
      "source": [
        "fit_intercept = This parameter specifies that a constant (bias or intercept) should be added to the decision function. No intercept will be used in calculation, if it will set to false."
      ],
      "metadata": {
        "id": "WXq2HPJnjTo8"
      }
    },
    {
      "cell_type": "markdown",
      "source": [
        "tol = It represents the precision of the solution."
      ],
      "metadata": {
        "id": "85TH4wyijck2"
      }
    },
    {
      "cell_type": "markdown",
      "source": [
        "normalize = If this parameter is set to True, the regressor X will be normalized before regression. The normalization will be done by subtracting the mean and dividing it by L2 norm. If fit_intercept = False, this parameter will be ignored."
      ],
      "metadata": {
        "id": "PPPg98RXjh_X"
      }
    },
    {
      "cell_type": "markdown",
      "source": [
        "copy_X = By default, it is true which means X will be copied. But if it is set to false, X may be overwritten."
      ],
      "metadata": {
        "id": "5WCQfJAHjpfr"
      }
    },
    {
      "cell_type": "markdown",
      "source": [
        "max_iter = As name suggest, it represents the maximum number of iterations taken for conjugate gradient solvers."
      ],
      "metadata": {
        "id": "mIwvrNaNj0_L"
      }
    },
    {
      "cell_type": "markdown",
      "source": [
        "solver − str, {‘auto’, ‘svd’, ‘cholesky’, ‘lsqr’, ‘sparse_cg’, ‘sag’, ‘saga’}’\n",
        "\n",
        "This parameter represents which solver to use in the computational routines. Following are the properties of options under this parameter\n",
        "\n",
        "auto − It let choose the solver automatically based on the type of data.\n",
        "\n",
        "svd − In order to calculate the Ridge coefficients, this parameter uses a Singular Value Decomposition of X.\n",
        "\n",
        "cholesky − This parameter uses the standard scipy.linalg.solve() function to get a closed-form solution.\n",
        "\n",
        "lsqr − It is the fastest and uses the dedicated regularized least-squares routine scipy.sparse.linalg.lsqr.\n",
        "\n",
        "sag − It uses iterative process and a Stochastic Average Gradient descent.\n",
        "\n",
        "saga − It also uses iterative process and an improved Stochastic Average Gradient descent."
      ],
      "metadata": {
        "id": "-QLkWo8ij4rf"
      }
    },
    {
      "cell_type": "code",
      "source": [
        "from sklearn.linear_model import Ridge\n",
        "import numpy as np\n",
        "n_samples, n_features = 15, 10\n",
        "rng = np.random.RandomState(0)\n",
        "y = rng.randn(n_samples)\n",
        "X = rng.randn(n_samples, n_features)\n",
        "print(y)\n",
        "print(X)"
      ],
      "metadata": {
        "colab": {
          "base_uri": "https://localhost:8080/"
        },
        "id": "VpnSyXkPjS0j",
        "outputId": "fc31ec80-da3d-4ede-f952-31d3938810d5"
      },
      "execution_count": 2,
      "outputs": [
        {
          "output_type": "stream",
          "name": "stdout",
          "text": [
            "[ 1.76405235  0.40015721  0.97873798  2.2408932   1.86755799 -0.97727788\n",
            "  0.95008842 -0.15135721 -0.10321885  0.4105985   0.14404357  1.45427351\n",
            "  0.76103773  0.12167502  0.44386323]\n",
            "[[ 0.33367433  1.49407907 -0.20515826  0.3130677  -0.85409574 -2.55298982\n",
            "   0.6536186   0.8644362  -0.74216502  2.26975462]\n",
            " [-1.45436567  0.04575852 -0.18718385  1.53277921  1.46935877  0.15494743\n",
            "   0.37816252 -0.88778575 -1.98079647 -0.34791215]\n",
            " [ 0.15634897  1.23029068  1.20237985 -0.38732682 -0.30230275 -1.04855297\n",
            "  -1.42001794 -1.70627019  1.9507754  -0.50965218]\n",
            " [-0.4380743  -1.25279536  0.77749036 -1.61389785 -0.21274028 -0.89546656\n",
            "   0.3869025  -0.51080514 -1.18063218 -0.02818223]\n",
            " [ 0.42833187  0.06651722  0.3024719  -0.63432209 -0.36274117 -0.67246045\n",
            "  -0.35955316 -0.81314628 -1.7262826   0.17742614]\n",
            " [-0.40178094 -1.63019835  0.46278226 -0.90729836  0.0519454   0.72909056\n",
            "   0.12898291  1.13940068 -1.23482582  0.40234164]\n",
            " [-0.68481009 -0.87079715 -0.57884966 -0.31155253  0.05616534 -1.16514984\n",
            "   0.90082649  0.46566244 -1.53624369  1.48825219]\n",
            " [ 1.89588918  1.17877957 -0.17992484 -1.07075262  1.05445173 -0.40317695\n",
            "   1.22244507  0.20827498  0.97663904  0.3563664 ]\n",
            " [ 0.70657317  0.01050002  1.78587049  0.12691209  0.40198936  1.8831507\n",
            "  -1.34775906 -1.270485    0.96939671 -1.17312341]\n",
            " [ 1.94362119 -0.41361898 -0.74745481  1.92294203  1.48051479  1.86755896\n",
            "   0.90604466 -0.86122569  1.91006495 -0.26800337]\n",
            " [ 0.8024564   0.94725197 -0.15501009  0.61407937  0.92220667  0.37642553\n",
            "  -1.09940079  0.29823817  1.3263859  -0.69456786]\n",
            " [-0.14963454 -0.43515355  1.84926373  0.67229476  0.40746184 -0.76991607\n",
            "   0.53924919 -0.67433266  0.03183056 -0.63584608]\n",
            " [ 0.67643329  0.57659082 -0.20829876  0.39600671 -1.09306151 -1.49125759\n",
            "   0.4393917   0.1666735   0.63503144  2.38314477]\n",
            " [ 0.94447949 -0.91282223  1.11701629 -1.31590741 -0.4615846  -0.06824161\n",
            "   1.71334272 -0.74475482 -0.82643854 -0.09845252]\n",
            " [-0.66347829  1.12663592 -1.07993151 -1.14746865 -0.43782004 -0.49803245\n",
            "   1.92953205  0.94942081  0.08755124 -1.22543552]]\n"
          ]
        }
      ]
    },
    {
      "cell_type": "code",
      "source": [
        "rdg = Ridge(alpha = 0.5)\n",
        "rdg.fit(X, y)\n",
        "rdg.score(X,y)"
      ],
      "metadata": {
        "colab": {
          "base_uri": "https://localhost:8080/"
        },
        "id": "p6jWM4Jmkecm",
        "outputId": "852fde14-df0d-45fe-e53c-7619f3260f9a"
      },
      "execution_count": 3,
      "outputs": [
        {
          "output_type": "execute_result",
          "data": {
            "text/plain": [
              "0.7629498741931634"
            ]
          },
          "metadata": {},
          "execution_count": 3
        }
      ]
    },
    {
      "cell_type": "code",
      "source": [
        "from sklearn.linear_model import LinearRegression\n",
        "\n",
        "lrg = LinearRegression(fit_intercept =True)\n",
        "lrg.fit(X,y)\n",
        "lrg.score(X,y)"
      ],
      "metadata": {
        "colab": {
          "base_uri": "https://localhost:8080/"
        },
        "id": "8ClO4U30khiC",
        "outputId": "2c4d7142-e5d2-4c4e-c801-6a5fb511289a"
      },
      "execution_count": 4,
      "outputs": [
        {
          "output_type": "execute_result",
          "data": {
            "text/plain": [
              "0.7949095403789805"
            ]
          },
          "metadata": {},
          "execution_count": 4
        }
      ]
    },
    {
      "cell_type": "code",
      "source": [
        "rdg.coef_"
      ],
      "metadata": {
        "colab": {
          "base_uri": "https://localhost:8080/"
        },
        "id": "qMfkGCEvk4HR",
        "outputId": "0c378ad9-8ddc-4446-842e-7b9c34b3c874"
      },
      "execution_count": 5,
      "outputs": [
        {
          "output_type": "execute_result",
          "data": {
            "text/plain": [
              "array([ 0.32720254, -0.34503436, -0.2913278 ,  0.2693125 , -0.22832508,\n",
              "       -0.8635094 , -0.17079403, -0.36288055, -0.17241081, -0.43136046])"
            ]
          },
          "metadata": {},
          "execution_count": 5
        }
      ]
    },
    {
      "cell_type": "code",
      "source": [
        "rdg.intercept_"
      ],
      "metadata": {
        "colab": {
          "base_uri": "https://localhost:8080/"
        },
        "id": "gxFVAki-k6pm",
        "outputId": "23a5b8d3-14bf-4da5-c72d-d45dfb5d1445"
      },
      "execution_count": 6,
      "outputs": [
        {
          "output_type": "execute_result",
          "data": {
            "text/plain": [
              "0.5274865723969377"
            ]
          },
          "metadata": {},
          "execution_count": 6
        }
      ]
    }
  ]
}