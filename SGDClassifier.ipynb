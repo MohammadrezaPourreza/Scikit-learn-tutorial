{
  "nbformat": 4,
  "nbformat_minor": 0,
  "metadata": {
    "colab": {
      "name": "SGDClassifier.ipynb",
      "provenance": [],
      "authorship_tag": "ABX9TyNYaHDr6DbPm29vJJy5AIH2",
      "include_colab_link": true
    },
    "kernelspec": {
      "name": "python3",
      "display_name": "Python 3"
    },
    "language_info": {
      "name": "python"
    }
  },
  "cells": [
    {
      "cell_type": "markdown",
      "metadata": {
        "id": "view-in-github",
        "colab_type": "text"
      },
      "source": [
        "<a href=\"https://colab.research.google.com/github/MohammadrezaPourreza/Scikit-learn-tutorial/blob/main/SGDClassifier.ipynb\" target=\"_parent\"><img src=\"https://colab.research.google.com/assets/colab-badge.svg\" alt=\"Open In Colab\"/></a>"
      ]
    },
    {
      "cell_type": "markdown",
      "source": [
        "Stochastic Gradient Descent (SGD) is a simple yet efficient optimization algorithm used to find the values of parameters/coefficients of functions that minimize a cost function. "
      ],
      "metadata": {
        "id": "aWi7S5RTaqDr"
      }
    },
    {
      "cell_type": "markdown",
      "source": [
        "**PARAMETERS**"
      ],
      "metadata": {
        "id": "e0vwpWlla1h1"
      }
    },
    {
      "cell_type": "markdown",
      "source": [
        "loss − str, default = ‘hinge’\n",
        "\n",
        "It represents the loss function to be used while implementing. The default value is ‘hinge’ which will give us a linear SVM. The other options which can be used are −\n",
        "\n",
        "log − This loss will give us logistic regression i.e. a probabilistic classifier.\n",
        "\n",
        "modified_huber − a smooth loss that brings tolerance to outliers along with probability estimates.\n",
        "\n",
        "squared_hinge − similar to ‘hinge’ loss but it is quadratically penalized.\n",
        "\n",
        "perceptron − as the name suggests, it is a linear loss which is used by the perceptron algorithm."
      ],
      "metadata": {
        "id": "261RgVVAh4UM"
      }
    },
    {
      "cell_type": "markdown",
      "source": [
        "penalty − str, ‘none’, ‘l2’, ‘l1’, ‘elasticnet’\n",
        "\n",
        "It is the regularization term used in the model. By default, it is L2. We can use L1 or ‘elasticnet; as well but both might bring sparsity to the model, hence not achievable with L2."
      ],
      "metadata": {
        "id": "IZjzw3Gxh5--"
      }
    },
    {
      "cell_type": "markdown",
      "source": [
        "alpha − float, default = 0.0001\n",
        "\n",
        "Alpha, the constant that multiplies the regularization term, is the tuning parameter that decides how much we want to penalize the model. The default value is 0.0001."
      ],
      "metadata": {
        "id": "EiIy_CWIiAWa"
      }
    },
    {
      "cell_type": "markdown",
      "source": [
        "l1_ratio − float, default = 0.15\n",
        "\n",
        "This is called the ElasticNet mixing parameter. Its range is 0 < = l1_ratio < = 1. If l1_ratio = 1, the penalty would be L1 penalty. If l1_ratio = 0, the penalty would be an L2 penalty."
      ],
      "metadata": {
        "id": "RMAsFe0jiI-l"
      }
    },
    {
      "cell_type": "markdown",
      "source": [
        "fit_intercept − Boolean, Default=True\n",
        "\n",
        "This parameter specifies that a constant (bias or intercept) should be added to the decision function. No intercept will be used in calculation and data will be assumed already centered, if it will set to false."
      ],
      "metadata": {
        "id": "voIpFzo2iKeO"
      }
    },
    {
      "cell_type": "markdown",
      "source": [
        "tol − float or none, optional, default = 1.e-3\n",
        "\n",
        "This parameter represents the stopping criterion for iterations. Its default value is False but if set to None, the iterations will stop when 𝒍loss > best_loss - tol for n_iter_no_changesuccessive epochs."
      ],
      "metadata": {
        "id": "N1ppnoN_iTui"
      }
    },
    {
      "cell_type": "markdown",
      "source": [
        "shuffle − Boolean, optional, default = True\n",
        "\n",
        "This parameter represents that whether we want our training data to be shuffled after each epoch or not."
      ],
      "metadata": {
        "id": "wkDmvhnziWaS"
      }
    },
    {
      "cell_type": "markdown",
      "source": [
        "\t\n",
        "verbose − integer, default = 0\n",
        "\n",
        "It represents the verbosity level. Its default value is 0."
      ],
      "metadata": {
        "id": "J-WhHSOvjfSp"
      }
    },
    {
      "cell_type": "markdown",
      "source": [
        "epsilon − float, default = 0.1\n",
        "\n",
        "This parameter specifies the width of the insensitive region. If loss = ‘epsilon-insensitive’, any difference, between current prediction and the correct label, less than the threshold would be ignored."
      ],
      "metadata": {
        "id": "amiBqKtVjgv2"
      }
    },
    {
      "cell_type": "markdown",
      "source": [
        "\t\n",
        "max_iter − int, optional, default = 1000\n",
        "\n",
        "As name suggest, it represents the maximum number of passes over the epochs i.e. training data."
      ],
      "metadata": {
        "id": "LBvCtypcjnj5"
      }
    },
    {
      "cell_type": "markdown",
      "source": [
        "warm_start − bool, optional, default = false\n",
        "\n",
        "With this parameter set to True, we can reuse the solution of the previous call to fit as initialization. If we choose default i.e. false, it will erase the previous solution."
      ],
      "metadata": {
        "id": "RnhE91fNjpYV"
      }
    },
    {
      "cell_type": "markdown",
      "source": [
        "\t\n",
        "learning_rate − string, optional, default = ‘optimal’\n",
        "\n",
        "If learning rate is ‘constant’, eta = eta0;\n",
        "\n",
        "If learning rate is ‘optimal’, eta = 1.0/(alpha*(t+t0)), where t0 is chosen by Leon Bottou;\n",
        "\n",
        "If learning rate = ‘invscalling’, eta = eta0/pow(t, power_t).\n",
        "\n",
        "If learning rate = ‘adaptive’, eta = eta0."
      ],
      "metadata": {
        "id": "a4U6Fwj0jsCP"
      }
    },
    {
      "cell_type": "markdown",
      "source": [
        "eta0 − double, default = 0.0\n",
        "\n",
        "It represents the initial learning rate for above mentioned learning rate options i.e. ‘constant’, ‘invscalling’, or ‘adaptive’."
      ],
      "metadata": {
        "id": "Ywp8pWCxj35E"
      }
    },
    {
      "cell_type": "markdown",
      "source": [
        "power_t − idouble, default =0.5\n",
        "\n",
        "It is the exponent for ‘incscalling’ learning rate."
      ],
      "metadata": {
        "id": "_tNVtM09j-2I"
      }
    },
    {
      "cell_type": "markdown",
      "source": [
        "early_stopping − bool, default = False\n",
        "\n",
        "This parameter represents the use of early stopping to terminate training when validation score is not improving. Its default value is false but when set to true, it automatically set aside a stratified fraction of training data as validation and stop training when validation score is not improving."
      ],
      "metadata": {
        "id": "_IW5RktmkGm_"
      }
    },
    {
      "cell_type": "markdown",
      "source": [
        "validation_fraction − float, default = 0.1\n",
        "\n",
        "It is only used when early_stopping is true. It represents the proportion of training data to set asides as validation set for early termination of training data.."
      ],
      "metadata": {
        "id": "kjrOfU9TkJXv"
      }
    },
    {
      "cell_type": "markdown",
      "source": [
        "n_iter_no_change − int, default=5\n",
        "\n",
        "It represents the number of iteration with no improvement should algorithm run before early stopping."
      ],
      "metadata": {
        "id": "hfY9ZZ1SkLnV"
      }
    },
    {
      "cell_type": "markdown",
      "source": [
        "classs_weight − dict, {class_label: weight} or “balanced”, or None, optional\n",
        "\n",
        "This parameter represents the weights associated with classes. If not provided, the classes are supposed to have weight 1."
      ],
      "metadata": {
        "id": "CDjICzB4kOt3"
      }
    },
    {
      "cell_type": "markdown",
      "source": [
        "average − iBoolean or int, optional, default = false\n",
        "\n",
        "It represents the number of CPUs to be used in OVA (One Versus All) computation, for multi-class problems. The default value is none which means 1."
      ],
      "metadata": {
        "id": "bKbofi51kWjw"
      }
    },
    {
      "cell_type": "code",
      "source": [
        "import numpy as np\n",
        "from sklearn import linear_model\n",
        "X = np.array([[-1, -1], [-2, -1], [1, 1], [2, 1]])\n",
        "Y = np.array([1, 1, 2, 2])"
      ],
      "metadata": {
        "id": "VSDSfWCWmR80"
      },
      "execution_count": 4,
      "outputs": []
    },
    {
      "cell_type": "code",
      "source": [
        "SGDClf = linear_model.SGDClassifier(max_iter = 1000, tol=1e-3,penalty = \"elasticnet\")\n",
        "SGDClf.fit(X, Y)"
      ],
      "metadata": {
        "colab": {
          "base_uri": "https://localhost:8080/"
        },
        "id": "a9zzsXqYmTMe",
        "outputId": "47fc099c-1f7d-47d3-b0cc-1af7efbf7c11"
      },
      "execution_count": 5,
      "outputs": [
        {
          "output_type": "execute_result",
          "data": {
            "text/plain": [
              "SGDClassifier(penalty='elasticnet')"
            ]
          },
          "metadata": {},
          "execution_count": 5
        }
      ]
    },
    {
      "cell_type": "code",
      "source": [
        "SGDClf.predict([[2.,2.]])"
      ],
      "metadata": {
        "colab": {
          "base_uri": "https://localhost:8080/"
        },
        "id": "NHSTt9z7mdrK",
        "outputId": "73bfadee-6287-448d-e809-738a302c87cb"
      },
      "execution_count": 6,
      "outputs": [
        {
          "output_type": "execute_result",
          "data": {
            "text/plain": [
              "array([2])"
            ]
          },
          "metadata": {},
          "execution_count": 6
        }
      ]
    },
    {
      "cell_type": "code",
      "source": [
        "SGDClf.coef_"
      ],
      "metadata": {
        "colab": {
          "base_uri": "https://localhost:8080/"
        },
        "id": "tcuGLSmOmjRk",
        "outputId": "e37d245c-2d81-4dbf-aa0a-cbb5d3a127d0"
      },
      "execution_count": 7,
      "outputs": [
        {
          "output_type": "execute_result",
          "data": {
            "text/plain": [
              "array([[19.54811198,  9.77200712]])"
            ]
          },
          "metadata": {},
          "execution_count": 7
        }
      ]
    },
    {
      "cell_type": "markdown",
      "source": [
        "the signed distance to the hyperplane"
      ],
      "metadata": {
        "id": "rc14FEUCmz4B"
      }
    },
    {
      "cell_type": "code",
      "source": [
        "SGDClf.decision_function([[2., 2.]])"
      ],
      "metadata": {
        "colab": {
          "base_uri": "https://localhost:8080/"
        },
        "id": "jXBRSETNmuOp",
        "outputId": "c0b8ea6e-065f-4ea8-8dd2-e0b74a518624"
      },
      "execution_count": 8,
      "outputs": [
        {
          "output_type": "execute_result",
          "data": {
            "text/plain": [
              "array([48.6402382])"
            ]
          },
          "metadata": {},
          "execution_count": 8
        }
      ]
    },
    {
      "cell_type": "markdown",
      "source": [
        "SGDregressor"
      ],
      "metadata": {
        "id": "h83ZH7RJoCk9"
      }
    },
    {
      "cell_type": "markdown",
      "source": [
        "**PARAMETERS**"
      ],
      "metadata": {
        "id": "PocOplS2oF8A"
      }
    },
    {
      "cell_type": "markdown",
      "source": [
        "For SGDRegressor modules’ loss parameter the positives values are as follows −\n",
        "\n",
        "squared_loss − It refers to the ordinary least squares fit.\n",
        "\n",
        "huber: SGDRegressor − correct the outliers by switching from squared to linear loss past a distance of epsilon. The work of ‘huber’ is to modify ‘squared_loss’ so that algorithm focus less on correcting outliers.\n",
        "\n",
        "epsilon_insensitive − Actually, it ignores the errors less than epsilon.\n",
        "\n",
        "squared_epsilon_insensitive − It is same as epsilon_insensitive. The only difference is that it becomes squared loss past a tolerance of epsilon."
      ],
      "metadata": {
        "id": "K2nqet5-oH5Y"
      }
    },
    {
      "cell_type": "code",
      "source": [
        "import numpy as np\n",
        "from sklearn import linear_model\n",
        "n_samples, n_features = 10, 5\n",
        "rng = np.random.RandomState(0)\n",
        "y = rng.randn(n_samples)\n",
        "X = rng.randn(n_samples, n_features)\n",
        "SGDReg =linear_model.SGDRegressor(\n",
        "   max_iter = 1000,penalty = \"elasticnet\",loss = 'huber',tol = 1e-3, average = True\n",
        ")\n",
        "SGDReg.fit(X, y)"
      ],
      "metadata": {
        "colab": {
          "base_uri": "https://localhost:8080/"
        },
        "id": "Arhwc3FQosOJ",
        "outputId": "1e6b9a98-09a1-41a2-e4ac-010bafdf76d3"
      },
      "execution_count": 9,
      "outputs": [
        {
          "output_type": "execute_result",
          "data": {
            "text/plain": [
              "SGDRegressor(average=True, loss='huber', penalty='elasticnet')"
            ]
          },
          "metadata": {},
          "execution_count": 9
        }
      ]
    },
    {
      "cell_type": "code",
      "source": [
        "SGDReg.coef_"
      ],
      "metadata": {
        "colab": {
          "base_uri": "https://localhost:8080/"
        },
        "id": "PNXfmTXSou_w",
        "outputId": "715d1463-a948-44fc-ff47-41eb0835087b"
      },
      "execution_count": 10,
      "outputs": [
        {
          "output_type": "execute_result",
          "data": {
            "text/plain": [
              "array([-0.00493986,  0.00277446, -0.00411315,  0.00585336,  0.00458203])"
            ]
          },
          "metadata": {},
          "execution_count": 10
        }
      ]
    }
  ]
}