{
  "nbformat": 4,
  "nbformat_minor": 0,
  "metadata": {
    "colab": {
      "name": "SVR.ipynb",
      "provenance": [],
      "authorship_tag": "ABX9TyMkFSY+9mniVhI7kAiRqaQo",
      "include_colab_link": true
    },
    "kernelspec": {
      "name": "python3",
      "display_name": "Python 3"
    },
    "language_info": {
      "name": "python"
    }
  },
  "cells": [
    {
      "cell_type": "markdown",
      "metadata": {
        "id": "view-in-github",
        "colab_type": "text"
      },
      "source": [
        "<a href=\"https://colab.research.google.com/github/MohammadrezaPourreza/Scikit-learn-tutorial/blob/main/SVR.ipynb\" target=\"_parent\"><img src=\"https://colab.research.google.com/assets/colab-badge.svg\" alt=\"Open In Colab\"/></a>"
      ]
    },
    {
      "cell_type": "markdown",
      "source": [
        "Scikit-learn’s method of Support Vector Classification (SVC) can be extended to solve regression problems as well. That extended method is called Support Vector Regression (SVR)."
      ],
      "metadata": {
        "id": "ia3-W-gENtZ6"
      }
    },
    {
      "cell_type": "markdown",
      "source": [
        "It is Epsilon-support vector regression whose implementation is based on libsvm. As opposite to SVC There are two free parameters in the model namely ‘C’ and ‘epsilon’.\n",
        "\n",
        "epsilon − float, optional, default = 0.1\n",
        "\n",
        "It represents the epsilon in the epsilon-SVR model, and specifies the epsilon-tube within which no penalty is associated in the training loss function with points predicted within a distance epsilon from the actual value.\n",
        "\n"
      ],
      "metadata": {
        "id": "BgYWNoNpNzSY"
      }
    },
    {
      "cell_type": "code",
      "source": [
        "from sklearn import svm\n",
        "X = [[1, 1], [2, 2]]\n",
        "y = [1, 2]\n",
        "SVRReg = svm.SVR(kernel = 'linear', gamma = 'auto')\n",
        "SVRReg.fit(X, y)"
      ],
      "metadata": {
        "colab": {
          "base_uri": "https://localhost:8080/"
        },
        "id": "9mGWgvMAZPdo",
        "outputId": "b41ba644-9ff8-461f-aebe-281e02c37227"
      },
      "execution_count": 12,
      "outputs": [
        {
          "output_type": "execute_result",
          "data": {
            "text/plain": [
              "SVR(gamma='auto', kernel='linear')"
            ]
          },
          "metadata": {},
          "execution_count": 12
        }
      ]
    },
    {
      "cell_type": "markdown",
      "source": [
        "**NuSVR**"
      ],
      "metadata": {
        "id": "0FhcCySOZbeF"
      }
    },
    {
      "cell_type": "markdown",
      "source": [
        "NuSVR is Nu Support Vector Regression. It is like NuSVC, but NuSVR uses a parameter nu to control the number of support vectors. And moreover, unlike NuSVC where nu replaced C parameter, here it replaces epsilon."
      ],
      "metadata": {
        "id": "VkXY_kUgZcjZ"
      }
    },
    {
      "cell_type": "code",
      "source": [
        "from sklearn.svm import NuSVR\n",
        "import numpy as np\n",
        "n_samples, n_features = 20, 15\n",
        "np.random.seed(0)\n",
        "y = np.random.randn(n_samples)\n",
        "X = np.random.randn(n_samples, n_features)\n",
        "NuSVRReg = NuSVR(kernel = 'linear', gamma = 'auto',C = 1.0, nu = 0.1)\n",
        "NuSVRReg.fit(X, y)"
      ],
      "metadata": {
        "colab": {
          "base_uri": "https://localhost:8080/"
        },
        "id": "yWAgBNEPZmRU",
        "outputId": "b790a03c-6c5c-44f4-d04b-a0bc2afba38f"
      },
      "execution_count": 14,
      "outputs": [
        {
          "output_type": "execute_result",
          "data": {
            "text/plain": [
              "NuSVR(gamma='auto', kernel='linear', nu=0.1)"
            ]
          },
          "metadata": {},
          "execution_count": 14
        }
      ]
    },
    {
      "cell_type": "markdown",
      "source": [
        "LinearSVR"
      ],
      "metadata": {
        "id": "a-h9tyLMZxPj"
      }
    },
    {
      "cell_type": "markdown",
      "source": [
        "However, it supports ‘loss’ parameters as follows −\n",
        "\n",
        "loss − string, optional, default = ‘epsilon_insensitive’"
      ],
      "metadata": {
        "id": "yiE9u-7SZyyt"
      }
    },
    {
      "cell_type": "code",
      "source": [
        "from sklearn.svm import LinearSVR\n",
        "from sklearn.datasets import make_regression\n",
        "X, y = make_regression(n_features = 4, random_state = 0)\n",
        "LSVRReg = LinearSVR(dual = False, random_state = 0,\n",
        "loss = 'squared_epsilon_insensitive',tol = 1e-5)\n",
        "LSVRReg.fit(X, y)"
      ],
      "metadata": {
        "colab": {
          "base_uri": "https://localhost:8080/"
        },
        "id": "HONZIE2AZ5KI",
        "outputId": "c3892006-c442-4ba1-ed75-2f2721a29109"
      },
      "execution_count": 15,
      "outputs": [
        {
          "output_type": "execute_result",
          "data": {
            "text/plain": [
              "LinearSVR(dual=False, loss='squared_epsilon_insensitive', random_state=0,\n",
              "          tol=1e-05)"
            ]
          },
          "metadata": {},
          "execution_count": 15
        }
      ]
    }
  ]
}