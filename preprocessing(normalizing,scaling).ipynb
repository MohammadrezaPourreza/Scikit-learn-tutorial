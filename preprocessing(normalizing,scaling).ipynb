{
  "nbformat": 4,
  "nbformat_minor": 0,
  "metadata": {
    "colab": {
      "name": "Scikit-learn.ipynb",
      "provenance": [],
      "authorship_tag": "ABX9TyMkZRPO98GxM7f2LnvVnKy+",
      "include_colab_link": true
    },
    "kernelspec": {
      "name": "python3",
      "display_name": "Python 3"
    },
    "language_info": {
      "name": "python"
    }
  },
  "cells": [
    {
      "cell_type": "markdown",
      "metadata": {
        "id": "view-in-github",
        "colab_type": "text"
      },
      "source": [
        "<a href=\"https://colab.research.google.com/github/MohammadrezaPourreza/Scikit-learn-tutorial/blob/main/preprocessing(normalizing%2Cscaling).ipynb\" target=\"_parent\"><img src=\"https://colab.research.google.com/assets/colab-badge.svg\" alt=\"Open In Colab\"/></a>"
      ]
    },
    {
      "cell_type": "markdown",
      "source": [
        "Dataset loading"
      ],
      "metadata": {
        "id": "MSAhHS8ItwG4"
      }
    },
    {
      "cell_type": "markdown",
      "source": [
        "scikit learn has datasets for different purposes\n",
        "1)classification:\n",
        "  1.1)iris 1.2)digits\n",
        "2)regression:\n",
        "  2.1)boston house prices"
      ],
      "metadata": {
        "id": "UCG3fL7UuMAR"
      }
    },
    {
      "cell_type": "code",
      "source": [
        "from sklearn.datasets import load_iris\n",
        "\n",
        "iris = load_iris()\n",
        "X = iris.data\n",
        "Y = iris.target\n",
        "feature_names = iris.feature_names\n",
        "target_names =  iris.target_names\n",
        "print(f\"feature names are {feature_names}\")\n",
        "print(f\"target names are {target_names}\")\n",
        "print(f\"features are {X[:5]}\")\n",
        "print(f\"targets are {Y[:5]}\")"
      ],
      "metadata": {
        "colab": {
          "base_uri": "https://localhost:8080/"
        },
        "id": "T-DCH-vhtyLN",
        "outputId": "232ab85d-966c-4c7e-9d68-50c3eb15b4cd"
      },
      "execution_count": 2,
      "outputs": [
        {
          "output_type": "stream",
          "name": "stdout",
          "text": [
            "feature names are ['sepal length (cm)', 'sepal width (cm)', 'petal length (cm)', 'petal width (cm)']\n",
            "target names are ['setosa' 'versicolor' 'virginica']\n",
            "features are [[5.1 3.5 1.4 0.2]\n",
            " [4.9 3.  1.4 0.2]\n",
            " [4.7 3.2 1.3 0.2]\n",
            " [4.6 3.1 1.5 0.2]\n",
            " [5.  3.6 1.4 0.2]]\n",
            "targets are [0 0 0 0 0]\n"
          ]
        }
      ]
    },
    {
      "cell_type": "markdown",
      "source": [
        "Splitting the dataset"
      ],
      "metadata": {
        "id": "5xY2SpnVvodU"
      }
    },
    {
      "cell_type": "code",
      "source": [
        "from sklearn.model_selection import train_test_split\n",
        "\n",
        "#shuffle is true by default\n",
        "X_train , X_test, y_train , y_test  = train_test_split(X,Y,test_size=0.3,random_state = None,shuffle = True)\n",
        "# random_state simply sets a seed to the random generator, so that your train-test splits are always deterministic.\n",
        "# If you don't set a seed, it is different each time\n",
        "print(X_train.shape)\n",
        "print(X_test.shape)\n",
        "print(y_train.shape)\n",
        "print(y_test.shape)"
      ],
      "metadata": {
        "colab": {
          "base_uri": "https://localhost:8080/"
        },
        "id": "CongNm4Hvp_Y",
        "outputId": "c744e2cb-2666-4af8-b7da-f767c1f65942"
      },
      "execution_count": 8,
      "outputs": [
        {
          "output_type": "stream",
          "name": "stdout",
          "text": [
            "(105, 4)\n",
            "(45, 4)\n",
            "(105,)\n",
            "(45,)\n"
          ]
        }
      ]
    },
    {
      "cell_type": "markdown",
      "source": [
        "KNN classifier to classify the data"
      ],
      "metadata": {
        "id": "lR6urcKwxO7l"
      }
    },
    {
      "cell_type": "code",
      "source": [
        "from sklearn.neighbors import KNeighborsClassifier\n",
        "from sklearn import metrics\n",
        "\n",
        "knn_classifier = KNeighborsClassifier(n_neighbors=3)\n",
        "knn_classifier.fit(X_train,y_train)\n",
        "y_pred = knn_classifier.predict(X_test)\n",
        "#finding the accuracy\n",
        "print(f\"accuracy is {metrics.accuracy_score(y_test,y_pred)}\")\n",
        "\n",
        "\n",
        "# Providing sample data and the model will make prediction out of that data\n",
        "sample = [[5, 5, 3, 2], [2, 4, 3, 5]]\n",
        "preds = knn_classifier.predict(sample)\n",
        "pred_species = [iris.target_names[p] for p in preds]\n",
        "print(\"Predictions:\", pred_species)"
      ],
      "metadata": {
        "colab": {
          "base_uri": "https://localhost:8080/"
        },
        "id": "ohu5VvXjxRuR",
        "outputId": "84816ef6-a6d0-42f5-9e77-c8a735be862f"
      },
      "execution_count": 9,
      "outputs": [
        {
          "output_type": "stream",
          "name": "stdout",
          "text": [
            "accuracy is 0.9555555555555556\n",
            "Predictions: ['setosa', 'virginica']\n"
          ]
        }
      ]
    },
    {
      "cell_type": "markdown",
      "source": [
        "Save and load a model"
      ],
      "metadata": {
        "id": "Nh4ucaHZy7ES"
      }
    },
    {
      "cell_type": "code",
      "source": [
        "import joblib\n",
        "\n",
        "joblib.dump(knn_classifier, 'iris_classifier_knn.joblib')"
      ],
      "metadata": {
        "colab": {
          "base_uri": "https://localhost:8080/"
        },
        "id": "ZiVB7aAXy80M",
        "outputId": "5412eaaf-834e-48d1-9a8c-d8af13c365ba"
      },
      "execution_count": 11,
      "outputs": [
        {
          "output_type": "execute_result",
          "data": {
            "text/plain": [
              "['iris_classifier_knn.joblib']"
            ]
          },
          "metadata": {},
          "execution_count": 11
        }
      ]
    },
    {
      "cell_type": "code",
      "source": [
        "knn_classifier = joblib.load('/content/iris_classifier_knn.joblib')"
      ],
      "metadata": {
        "id": "TRLRO_aFzc14"
      },
      "execution_count": 13,
      "outputs": []
    },
    {
      "cell_type": "markdown",
      "source": [
        "Preprocessing the data"
      ],
      "metadata": {
        "id": "d2V8dDlM0CuF"
      }
    },
    {
      "cell_type": "code",
      "source": [
        "#binarization\n",
        "\n",
        "import numpy as np\n",
        "from sklearn import preprocessing\n",
        "Input_data = np.array([\n",
        "   [2.1, -1.9, 5.5],\n",
        "   [-1.5, 2.4, 3.5],\n",
        "   [0.5, -7.9, 5.6],\n",
        "   [5.9, 2.3, -5.8]])\n",
        "print(f\"binarization :  \\n {preprocessing.Binarizer(threshold=0.5).transform(Input_data)}\")"
      ],
      "metadata": {
        "colab": {
          "base_uri": "https://localhost:8080/"
        },
        "id": "4FyqGaWa0FNo",
        "outputId": "e6a8169e-0caf-444c-9806-9d91dff84e60"
      },
      "execution_count": 19,
      "outputs": [
        {
          "output_type": "stream",
          "name": "stdout",
          "text": [
            "binarization :  \n",
            " [[1. 0. 1.]\n",
            " [0. 1. 1.]\n",
            " [0. 0. 1.]\n",
            " [1. 1. 0.]]\n"
          ]
        }
      ]
    },
    {
      "cell_type": "code",
      "source": [
        "#mean removal \n",
        "\n",
        "print(f\"the mean of the data {Input_data.mean(axis=0)}\")\n",
        "print(f\"the mean of the data {Input_data.std(axis=0)}\")\n",
        "\n",
        "#removing mean and standard deviation\n",
        "data_scaled = preprocessing.scale(Input_data)\n",
        "print(\"Mean_removed =\", data_scaled.mean(axis=0))\n",
        "print(\"Stddeviation_removed =\", data_scaled.std(axis=0))"
      ],
      "metadata": {
        "colab": {
          "base_uri": "https://localhost:8080/"
        },
        "id": "s8S1G3Pm41OG",
        "outputId": "97a13e2f-123a-4b49-d188-9909e57d98bb"
      },
      "execution_count": 21,
      "outputs": [
        {
          "output_type": "stream",
          "name": "stdout",
          "text": [
            "the mean of the data [ 1.75  -1.275  2.2  ]\n",
            "the mean of the data [2.71431391 4.20022321 4.69414529]\n",
            "Mean_removed = [1.11022302e-16 0.00000000e+00 0.00000000e+00]\n",
            "Stddeviation_removed = [1. 1. 1.]\n"
          ]
        }
      ]
    },
    {
      "cell_type": "code",
      "source": [
        "# to scale the data to be between a specific min and max\n",
        "\n",
        "data_scaler_minmax =  preprocessing.MinMaxScaler(feature_range=(0,1))\n",
        "data_scaled_minmax = data_scaler_minmax.fit_transform(Input_data)\n",
        "print (\"\\nMin max scaled data:\\n\", data_scaled_minmax)"
      ],
      "metadata": {
        "colab": {
          "base_uri": "https://localhost:8080/"
        },
        "id": "Oi8YkzSM5y5E",
        "outputId": "aa539e80-7352-4ff1-ef8b-f48af18d632f"
      },
      "execution_count": 24,
      "outputs": [
        {
          "output_type": "stream",
          "name": "stdout",
          "text": [
            "\n",
            "Min max scaled data:\n",
            " [[0.48648649 0.58252427 0.99122807]\n",
            " [0.         1.         0.81578947]\n",
            " [0.27027027 0.         1.        ]\n",
            " [1.         0.99029126 0.        ]]\n"
          ]
        }
      ]
    },
    {
      "cell_type": "markdown",
      "source": [
        "Normalization"
      ],
      "metadata": {
        "id": "pSP1_7ej7ZUx"
      }
    },
    {
      "cell_type": "code",
      "source": [
        "#l1\n",
        "data_normalized_l1 = preprocessing.normalize(Input_data, norm='l1')\n",
        "print(\"L1 normalized data:\\n\", data_normalized_l1)"
      ],
      "metadata": {
        "colab": {
          "base_uri": "https://localhost:8080/"
        },
        "id": "StHXY3nB7YhM",
        "outputId": "6cd88622-021c-408f-dd0e-27fae5af3666"
      },
      "execution_count": 26,
      "outputs": [
        {
          "output_type": "stream",
          "name": "stdout",
          "text": [
            "L1 normalized data:\n",
            " [[ 0.22105263 -0.2         0.57894737]\n",
            " [-0.2027027   0.32432432  0.47297297]\n",
            " [ 0.03571429 -0.56428571  0.4       ]\n",
            " [ 0.42142857  0.16428571 -0.41428571]]\n"
          ]
        }
      ]
    },
    {
      "cell_type": "code",
      "source": [
        "#l2\n",
        "data_normalized_l2 = preprocessing.normalize(Input_data, norm='l2')\n",
        "print(\"L1 normalized data:\\n\", data_normalized_l2)"
      ],
      "metadata": {
        "colab": {
          "base_uri": "https://localhost:8080/"
        },
        "id": "MGimWndR75Q5",
        "outputId": "98f3140b-2e8d-4fd2-b441-a633750032ed"
      },
      "execution_count": 29,
      "outputs": [
        {
          "output_type": "stream",
          "name": "stdout",
          "text": [
            "L1 normalized data:\n",
            " [[ 0.33946114 -0.30713151  0.88906489]\n",
            " [-0.33325106  0.53320169  0.7775858 ]\n",
            " [ 0.05156558 -0.81473612  0.57753446]\n",
            " [ 0.68706914  0.26784051 -0.6754239 ]]\n"
          ]
        }
      ]
    },
    {
      "cell_type": "code",
      "source": [
        "#max\n",
        "data_normalized_l2 = preprocessing.normalize(Input_data, norm='max')\n",
        "print(\"max normalized data:\\n\", data_normalized_l2)"
      ],
      "metadata": {
        "colab": {
          "base_uri": "https://localhost:8080/"
        },
        "id": "fDqgplR-7-MX",
        "outputId": "2c4a93e7-cbd0-4b76-c2ab-ba6c5b0f1db4"
      },
      "execution_count": 30,
      "outputs": [
        {
          "output_type": "stream",
          "name": "stdout",
          "text": [
            "max normalized data:\n",
            " [[ 0.38181818 -0.34545455  1.        ]\n",
            " [-0.42857143  0.68571429  1.        ]\n",
            " [ 0.06329114 -1.          0.70886076]\n",
            " [ 1.          0.38983051 -0.98305085]]\n"
          ]
        }
      ]
    }
  ]
}