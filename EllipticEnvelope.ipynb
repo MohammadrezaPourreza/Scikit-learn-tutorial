{
  "nbformat": 4,
  "nbformat_minor": 0,
  "metadata": {
    "colab": {
      "name": "EllipticEnvelope.ipynb",
      "provenance": [],
      "authorship_tag": "ABX9TyMeVPuK+B+FojuCKQmFI3It",
      "include_colab_link": true
    },
    "kernelspec": {
      "name": "python3",
      "display_name": "Python 3"
    },
    "language_info": {
      "name": "python"
    }
  },
  "cells": [
    {
      "cell_type": "markdown",
      "metadata": {
        "id": "view-in-github",
        "colab_type": "text"
      },
      "source": [
        "<a href=\"https://colab.research.google.com/github/MohammadrezaPourreza/Scikit-learn-tutorial/blob/main/EllipticEnvelope.ipynb\" target=\"_parent\"><img src=\"https://colab.research.google.com/assets/colab-badge.svg\" alt=\"Open In Colab\"/></a>"
      ]
    },
    {
      "cell_type": "markdown",
      "source": [
        "This algorithm assume that regular data comes from a known distribution such as Gaussian distribution."
      ],
      "metadata": {
        "id": "eWhEx11zP6H_"
      }
    },
    {
      "cell_type": "markdown",
      "source": [
        "This object fits a robust covariance estimate to the data, and thus, fits an ellipse to the central data points. It ignores the points outside the central mode."
      ],
      "metadata": {
        "id": "_Piml8uLP7hy"
      }
    },
    {
      "cell_type": "markdown",
      "source": [
        "PARAMETERS"
      ],
      "metadata": {
        "id": "Qba4RpjXQHqt"
      }
    },
    {
      "cell_type": "markdown",
      "source": [
        "store_precision − Boolean, optional, default = True\n",
        "\n",
        "We can specify it if the estimated precision is stored."
      ],
      "metadata": {
        "id": "LhvWBRPEQI5W"
      }
    },
    {
      "cell_type": "markdown",
      "source": [
        "assume_centered − Boolean, optional, default = False\n",
        "\n",
        "If we set it False, it will compute the robust location and covariance directly with the help of FastMCD algorithm. On the other hand, if set True, it will compute the support of robust location and covarian."
      ],
      "metadata": {
        "id": "6ewi8rWvQKiP"
      }
    },
    {
      "cell_type": "markdown",
      "source": [
        "Contamination: specify the proportion of the outlier present in the dataset. The range is between (0, 0.5)."
      ],
      "metadata": {
        "id": "FdTyQhvpQVOg"
      }
    },
    {
      "cell_type": "code",
      "source": [
        "import numpy as np\n",
        "from sklearn.covariance import EllipticEnvelope\n",
        "true_cov = np.array([[.5, .6],[.6, .4]])\n",
        "X = np.random.RandomState(0).multivariate_normal(mean = [0, 0], cov=true_cov,size=500)"
      ],
      "metadata": {
        "colab": {
          "base_uri": "https://localhost:8080/"
        },
        "id": "mk3XXWFFQr90",
        "outputId": "87b72079-4433-46b7-e3f9-66488a29fa55"
      },
      "execution_count": 1,
      "outputs": [
        {
          "output_type": "stream",
          "name": "stderr",
          "text": [
            "/usr/local/lib/python3.7/dist-packages/ipykernel_launcher.py:4: RuntimeWarning: covariance is not positive-semidefinite.\n",
            "  after removing the cwd from sys.path.\n"
          ]
        }
      ]
    },
    {
      "cell_type": "code",
      "source": [
        "cov = EllipticEnvelope(random_state = 0).fit(X)\n",
        "# Now we can use predict method. It will return 1 for an inlier and -1 for an outlier.\n",
        "cov.predict([[0, 0],[2, 2]])"
      ],
      "metadata": {
        "colab": {
          "base_uri": "https://localhost:8080/"
        },
        "id": "AGn3wGqaQzXN",
        "outputId": "771277bd-bf71-4514-e2cd-6d8cc480eacd"
      },
      "execution_count": 2,
      "outputs": [
        {
          "output_type": "execute_result",
          "data": {
            "text/plain": [
              "array([ 1, -1])"
            ]
          },
          "metadata": {},
          "execution_count": 2
        }
      ]
    }
  ]
}