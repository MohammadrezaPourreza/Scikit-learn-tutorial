{
  "nbformat": 4,
  "nbformat_minor": 0,
  "metadata": {
    "colab": {
      "name": "NearestNeighbor.ipynb",
      "provenance": [],
      "authorship_tag": "ABX9TyPi4WcHiRy8P7O6VOuRItUr",
      "include_colab_link": true
    },
    "kernelspec": {
      "name": "python3",
      "display_name": "Python 3"
    },
    "language_info": {
      "name": "python"
    }
  },
  "cells": [
    {
      "cell_type": "markdown",
      "metadata": {
        "id": "view-in-github",
        "colab_type": "text"
      },
      "source": [
        "<a href=\"https://colab.research.google.com/github/MohammadrezaPourreza/Scikit-learn-tutorial/blob/main/NearestNeighbor.ipynb\" target=\"_parent\"><img src=\"https://colab.research.google.com/assets/colab-badge.svg\" alt=\"Open In Colab\"/></a>"
      ]
    },
    {
      "cell_type": "markdown",
      "source": [
        "sklearn.neighbors.NearestNeighbors is the module used to implement unsupervised nearest neighbor learning."
      ],
      "metadata": {
        "id": "_nCK9DTNahZh"
      }
    },
    {
      "cell_type": "markdown",
      "source": [
        "**PARAMETERS**"
      ],
      "metadata": {
        "id": "zboa9LY9aiGr"
      }
    },
    {
      "cell_type": "markdown",
      "source": [
        "\t\n",
        "n_neighbors − int, optional\n",
        "\n",
        "The number of neighbors to get. The default value is 5."
      ],
      "metadata": {
        "id": "hke0q1VlakB1"
      }
    },
    {
      "cell_type": "markdown",
      "source": [
        "\t\n",
        "radius − float, optional\n",
        "\n",
        "It limits the distance of neighbors to returns. The default value is 1.0."
      ],
      "metadata": {
        "id": "305p3Sk3ao91"
      }
    },
    {
      "cell_type": "markdown",
      "source": [
        "algorithm − {‘auto’, ‘ball_tree’, ‘kd_tree’, ‘brute’}, optional\n",
        "\n",
        "This parameter will take the algorithm (BallTree, KDTree or Brute-force) you want to use to compute the nearest neighbors. If you will provide ‘auto’, it will attempt to decide the most appropriate algorithm based on the values passed to fit method."
      ],
      "metadata": {
        "id": "qhfPFmNUav0M"
      }
    },
    {
      "cell_type": "markdown",
      "source": [
        "leaf_size − int, optional\n",
        "\n",
        "It can affect the speed of the construction & query as well as the memory required to store the tree. It is passed to BallTree or KDTree. Although the optimal value depends on the nature of the problem, its default value is 30."
      ],
      "metadata": {
        "id": "s2Os4ug80SZm"
      }
    },
    {
      "cell_type": "markdown",
      "source": [
        "\t\n",
        "metric − string or callable\n",
        "\n",
        "It is the metric to use for distance computation between points. We can pass it as a string or callable function. In case of callable function, the metric is called on each pair of rows and the resulting value is recorded. It is less efficient than passing the metric name as a string.\n",
        "\n",
        "We can choose from metric from scikit-learn or scipy.spatial.distance. the valid values are as follows −\n",
        "\n",
        "Scikit-learn − [‘cosine’,’manhattan’,‘Euclidean’, ‘l1’,’l2’, ‘cityblock’]\n",
        "\n",
        "Scipy.spatial.distance −\n",
        "\n",
        "[‘braycurtis’,‘canberra’,‘chebyshev’,‘dice’,‘hamming’,‘jaccard’, ‘correlation’,‘kulsinski’,‘mahalanobis’,‘minkowski’,‘rogerstanimoto’,‘russellrao’, ‘sokalmicheme’,’sokalsneath’, ‘seuclidean’, ‘sqeuclidean’, ‘yule’].\n",
        "\n",
        "The default metric is ‘Minkowski’."
      ],
      "metadata": {
        "id": "qtIgiTWS0S5X"
      }
    },
    {
      "cell_type": "markdown",
      "source": [
        "\t\n",
        "P − integer, optional\n",
        "\n",
        "It is the parameter for the Minkowski metric. The default value is 2 which is equivalent to using Euclidean_distance(l2)."
      ],
      "metadata": {
        "id": "vbIRhJ290gEE"
      }
    },
    {
      "cell_type": "code",
      "source": [
        "from sklearn.neighbors import NearestNeighbors\n",
        "import numpy as np"
      ],
      "metadata": {
        "id": "Ld4CS2mz0shw"
      },
      "execution_count": 1,
      "outputs": []
    },
    {
      "cell_type": "code",
      "source": [
        "Input_data = np.array([[-1, 1], [-2, 2], [-3, 3], [1, 2], [2, 3], [3, 4],[4, 5]])"
      ],
      "metadata": {
        "id": "PcgTNWM10tEg"
      },
      "execution_count": 2,
      "outputs": []
    },
    {
      "cell_type": "code",
      "source": [
        "nrst_neigh = NearestNeighbors(n_neighbors = 3, algorithm = 'ball_tree')"
      ],
      "metadata": {
        "id": "0ccdfmam005-"
      },
      "execution_count": 3,
      "outputs": []
    },
    {
      "cell_type": "code",
      "source": [
        "nrst_neigh.fit(Input_data)"
      ],
      "metadata": {
        "colab": {
          "base_uri": "https://localhost:8080/"
        },
        "id": "9jdURoNY044W",
        "outputId": "6d869cb4-e35b-40ba-a575-e13c55029bd3"
      },
      "execution_count": 4,
      "outputs": [
        {
          "output_type": "execute_result",
          "data": {
            "text/plain": [
              "NearestNeighbors(algorithm='ball_tree', n_neighbors=3)"
            ]
          },
          "metadata": {},
          "execution_count": 4
        }
      ]
    },
    {
      "cell_type": "code",
      "source": [
        "distances, indices = nrst_neigh.kneighbors(Input_data)\n",
        "indices"
      ],
      "metadata": {
        "colab": {
          "base_uri": "https://localhost:8080/"
        },
        "id": "TPi-M6Y008Ly",
        "outputId": "fbe6b8cb-11ea-46a1-e8a8-ed33cf84ee9e"
      },
      "execution_count": 7,
      "outputs": [
        {
          "output_type": "execute_result",
          "data": {
            "text/plain": [
              "array([[0, 1, 3],\n",
              "       [1, 2, 0],\n",
              "       [2, 1, 0],\n",
              "       [3, 4, 0],\n",
              "       [4, 5, 3],\n",
              "       [5, 6, 4],\n",
              "       [6, 5, 4]])"
            ]
          },
          "metadata": {},
          "execution_count": 7
        }
      ]
    },
    {
      "cell_type": "code",
      "source": [
        "distances"
      ],
      "metadata": {
        "colab": {
          "base_uri": "https://localhost:8080/"
        },
        "id": "9HIDUc7U1KlG",
        "outputId": "a571b106-b67b-4497-8125-da4c1e1f5350"
      },
      "execution_count": 8,
      "outputs": [
        {
          "output_type": "execute_result",
          "data": {
            "text/plain": [
              "array([[0.        , 1.41421356, 2.23606798],\n",
              "       [0.        , 1.41421356, 1.41421356],\n",
              "       [0.        , 1.41421356, 2.82842712],\n",
              "       [0.        , 1.41421356, 2.23606798],\n",
              "       [0.        , 1.41421356, 1.41421356],\n",
              "       [0.        , 1.41421356, 1.41421356],\n",
              "       [0.        , 1.41421356, 2.82842712]])"
            ]
          },
          "metadata": {},
          "execution_count": 8
        }
      ]
    },
    {
      "cell_type": "code",
      "source": [
        "nrst_neigh.kneighbors_graph(Input_data).toarray()"
      ],
      "metadata": {
        "colab": {
          "base_uri": "https://localhost:8080/"
        },
        "id": "OPjJRb2U1nFY",
        "outputId": "327bcce3-34e7-4330-c0ab-2e8739e0a789"
      },
      "execution_count": 9,
      "outputs": [
        {
          "output_type": "execute_result",
          "data": {
            "text/plain": [
              "array([[1., 1., 0., 1., 0., 0., 0.],\n",
              "       [1., 1., 1., 0., 0., 0., 0.],\n",
              "       [1., 1., 1., 0., 0., 0., 0.],\n",
              "       [1., 0., 0., 1., 1., 0., 0.],\n",
              "       [0., 0., 0., 1., 1., 1., 0.],\n",
              "       [0., 0., 0., 0., 1., 1., 1.],\n",
              "       [0., 0., 0., 0., 1., 1., 1.]])"
            ]
          },
          "metadata": {},
          "execution_count": 9
        }
      ]
    },
    {
      "cell_type": "code",
      "source": [
        "from sklearn.datasets import load_iris\n",
        "iris = load_iris()"
      ],
      "metadata": {
        "id": "OHqurmJs4WpR"
      },
      "execution_count": 10,
      "outputs": []
    },
    {
      "cell_type": "code",
      "source": [
        "X = iris.data[:, :4]\n",
        "y = iris.target\n",
        "from sklearn.model_selection import train_test_split\n",
        "X_train, X_test, y_train, y_test = train_test_split(X, y, test_size = 0.20)"
      ],
      "metadata": {
        "id": "6fUJufe24bM2"
      },
      "execution_count": 11,
      "outputs": []
    },
    {
      "cell_type": "code",
      "source": [
        "from sklearn.preprocessing import StandardScaler\n",
        "scaler = StandardScaler()\n",
        "scaler.fit(X_train)\n",
        "X_train = scaler.transform(X_train)\n",
        "X_test = scaler.transform(X_test)"
      ],
      "metadata": {
        "id": "M7TQ1x2g4kYP"
      },
      "execution_count": 12,
      "outputs": []
    },
    {
      "cell_type": "code",
      "source": [
        "import numpy as np\n",
        "from sklearn.neighbors import KNeighborsRegressor\n",
        "knnr = KNeighborsRegressor(n_neighbors = 8)\n",
        "knnr.fit(X_train, y_train)"
      ],
      "metadata": {
        "colab": {
          "base_uri": "https://localhost:8080/"
        },
        "id": "aABHe0nv4sMw",
        "outputId": "e510ae79-9855-4490-b7cc-251eeb02dbac"
      },
      "execution_count": 13,
      "outputs": [
        {
          "output_type": "execute_result",
          "data": {
            "text/plain": [
              "KNeighborsRegressor(n_neighbors=8)"
            ]
          },
          "metadata": {},
          "execution_count": 13
        }
      ]
    },
    {
      "cell_type": "code",
      "source": [
        "print (\"The MSE is:\",format(np.power(y-knnr.predict(X),2).mean()))"
      ],
      "metadata": {
        "colab": {
          "base_uri": "https://localhost:8080/"
        },
        "id": "BhxcuhVB4x1o",
        "outputId": "e598666e-f05e-4e18-8e1f-29c98a637294"
      },
      "execution_count": 15,
      "outputs": [
        {
          "output_type": "stream",
          "name": "stdout",
          "text": [
            "The MSE is: 1.5052083333333333\n"
          ]
        }
      ]
    },
    {
      "cell_type": "code",
      "source": [
        "import numpy as np\n",
        "from sklearn.neighbors import RadiusNeighborsRegressor\n",
        "knnr_r = RadiusNeighborsRegressor(radius=1)\n",
        "knnr_r.fit(X_train, y_train)"
      ],
      "metadata": {
        "colab": {
          "base_uri": "https://localhost:8080/"
        },
        "id": "rV-SarNe5aDB",
        "outputId": "a5bf190a-2070-40c7-d7f3-20605ce7d794"
      },
      "execution_count": 16,
      "outputs": [
        {
          "output_type": "execute_result",
          "data": {
            "text/plain": [
              "RadiusNeighborsRegressor(radius=1)"
            ]
          },
          "metadata": {},
          "execution_count": 16
        }
      ]
    },
    {
      "cell_type": "code",
      "source": [
        "print (\"The MSE is:\",format(np.power(y-knnr_r.predict(X),2).mean()))"
      ],
      "metadata": {
        "colab": {
          "base_uri": "https://localhost:8080/"
        },
        "id": "NtVAq1Ik5fBV",
        "outputId": "7ccdc9b9-1830-4426-f2f5-e9ee9e1f2063"
      },
      "execution_count": 17,
      "outputs": [
        {
          "output_type": "stream",
          "name": "stdout",
          "text": [
            "The MSE is: 1.6666666666666667\n"
          ]
        }
      ]
    }
  ]
}