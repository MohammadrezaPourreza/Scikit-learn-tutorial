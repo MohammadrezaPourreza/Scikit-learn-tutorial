{
  "nbformat": 4,
  "nbformat_minor": 0,
  "metadata": {
    "colab": {
      "name": "PolynomialFeatures.ipynb",
      "provenance": [],
      "authorship_tag": "ABX9TyOHgqrCuBp1DcIA3+qZZxCn",
      "include_colab_link": true
    },
    "kernelspec": {
      "name": "python3",
      "display_name": "Python 3"
    },
    "language_info": {
      "name": "python"
    }
  },
  "cells": [
    {
      "cell_type": "markdown",
      "metadata": {
        "id": "view-in-github",
        "colab_type": "text"
      },
      "source": [
        "<a href=\"https://colab.research.google.com/github/MohammadrezaPourreza/Scikit-learn-tutorial/blob/main/PolynomialFeatures.ipynb\" target=\"_parent\"><img src=\"https://colab.research.google.com/assets/colab-badge.svg\" alt=\"Open In Colab\"/></a>"
      ]
    },
    {
      "cell_type": "markdown",
      "source": [
        "Polynomial features can help to capture non-linear relation separator by increasing the numbr of features and increasing the dimensionality"
      ],
      "metadata": {
        "id": "aWi7S5RTaqDr"
      }
    },
    {
      "cell_type": "markdown",
      "source": [
        "**PARAMETERS**"
      ],
      "metadata": {
        "id": "e0vwpWlla1h1"
      }
    },
    {
      "cell_type": "markdown",
      "source": [
        "degree − integer, default = 2\n",
        "\n",
        "It represents the degree of the polynomial features."
      ],
      "metadata": {
        "id": "GZ-nw9y5a3N9"
      }
    },
    {
      "cell_type": "markdown",
      "source": [
        "interaction_only − Boolean, default = false\n",
        "\n",
        "By default, it is false but if set as true, the features that are products of most degree distinct input features, are produced. Such features are called interaction features. if X and Y are featrures with interaction_only set to True we don't get X^2 and Y^2 we just get XY"
      ],
      "metadata": {
        "id": "o-yVQ8_Oa6Vr"
      }
    },
    {
      "cell_type": "markdown",
      "source": [
        "include_bias − Boolean, default = true\n",
        "\n",
        "It includes a bias column i.e. the feature in which all polynomials powers are zero."
      ],
      "metadata": {
        "id": "05jLNYcXbLmO"
      }
    },
    {
      "cell_type": "markdown",
      "source": [
        "\t\n",
        "order − str in {‘C’, ‘F’}, default = ‘C’\n",
        "\n",
        "This parameter represents the order of output array in the dense case. ‘F’ order means faster to compute but on the other hand, it may slow down subsequent estimators."
      ],
      "metadata": {
        "id": "E7FJBVSmbPqR"
      }
    },
    {
      "cell_type": "code",
      "source": [
        "from sklearn.preprocessing import PolynomialFeatures\n",
        "import numpy as np\n",
        "Y = np.arange(8).reshape(4, 2)\n",
        "Y"
      ],
      "metadata": {
        "colab": {
          "base_uri": "https://localhost:8080/"
        },
        "id": "SzWoS6kjbYXg",
        "outputId": "5204b9e3-cb06-4041-c903-0f30e1cb2690"
      },
      "execution_count": 1,
      "outputs": [
        {
          "output_type": "execute_result",
          "data": {
            "text/plain": [
              "array([[0, 1],\n",
              "       [2, 3],\n",
              "       [4, 5],\n",
              "       [6, 7]])"
            ]
          },
          "metadata": {},
          "execution_count": 1
        }
      ]
    },
    {
      "cell_type": "code",
      "source": [
        "poly = PolynomialFeatures(degree=2)\n",
        "poly.fit_transform(Y)"
      ],
      "metadata": {
        "colab": {
          "base_uri": "https://localhost:8080/"
        },
        "id": "r870D2Nlbeqf",
        "outputId": "194800ec-e92f-407f-a401-2bbf086c53a8"
      },
      "execution_count": 2,
      "outputs": [
        {
          "output_type": "execute_result",
          "data": {
            "text/plain": [
              "array([[ 1.,  0.,  1.,  0.,  0.,  1.],\n",
              "       [ 1.,  2.,  3.,  4.,  6.,  9.],\n",
              "       [ 1.,  4.,  5., 16., 20., 25.],\n",
              "       [ 1.,  6.,  7., 36., 42., 49.]])"
            ]
          },
          "metadata": {},
          "execution_count": 2
        }
      ]
    },
    {
      "cell_type": "code",
      "source": [
        "poly = PolynomialFeatures(degree=2,include_bias=False)\n",
        "poly.fit_transform(Y)"
      ],
      "metadata": {
        "colab": {
          "base_uri": "https://localhost:8080/"
        },
        "id": "Vg0Tc2eUbkwW",
        "outputId": "fb437197-ee85-4027-bd24-59fdfb101fe7"
      },
      "execution_count": 3,
      "outputs": [
        {
          "output_type": "execute_result",
          "data": {
            "text/plain": [
              "array([[ 0.,  1.,  0.,  0.,  1.],\n",
              "       [ 2.,  3.,  4.,  6.,  9.],\n",
              "       [ 4.,  5., 16., 20., 25.],\n",
              "       [ 6.,  7., 36., 42., 49.]])"
            ]
          },
          "metadata": {},
          "execution_count": 3
        }
      ]
    }
  ]
}