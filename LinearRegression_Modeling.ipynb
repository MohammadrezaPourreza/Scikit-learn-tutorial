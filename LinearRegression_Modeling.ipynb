{
  "nbformat": 4,
  "nbformat_minor": 0,
  "metadata": {
    "colab": {
      "name": "LinearRegression_Modeling.ipynb",
      "provenance": [],
      "authorship_tag": "ABX9TyNcEB5efpCqyqpxO4FHvozS",
      "include_colab_link": true
    },
    "kernelspec": {
      "name": "python3",
      "display_name": "Python 3"
    },
    "language_info": {
      "name": "python"
    }
  },
  "cells": [
    {
      "cell_type": "markdown",
      "metadata": {
        "id": "view-in-github",
        "colab_type": "text"
      },
      "source": [
        "<a href=\"https://colab.research.google.com/github/MohammadrezaPourreza/Scikit-learn-tutorial/blob/main/LinearRegression_Modeling.ipynb\" target=\"_parent\"><img src=\"https://colab.research.google.com/assets/colab-badge.svg\" alt=\"Open In Colab\"/></a>"
      ]
    },
    {
      "cell_type": "code",
      "source": [
        "import numpy as np\n",
        "from sklearn.linear_model import LinearRegression"
      ],
      "metadata": {
        "id": "5iWZT-xUhw_U"
      },
      "execution_count": 3,
      "outputs": []
    },
    {
      "cell_type": "code",
      "source": [
        "X = np.array([[1,1],[1,2],[2,2],[2,3]])\n",
        "y = np.dot(X, np.array([1,2])) + 3\n",
        "y"
      ],
      "metadata": {
        "colab": {
          "base_uri": "https://localhost:8080/"
        },
        "id": "RM4d3Gw6iBsT",
        "outputId": "b43b6d2f-bffa-48fd-b1c7-6fa55482d23a"
      },
      "execution_count": 5,
      "outputs": [
        {
          "output_type": "execute_result",
          "data": {
            "text/plain": [
              "array([ 6,  8,  9, 11])"
            ]
          },
          "metadata": {},
          "execution_count": 5
        }
      ]
    },
    {
      "cell_type": "markdown",
      "source": [
        "fit_intercept − Boolean, optional, default True\n",
        "\n",
        "Used to calculate the intercept for the model. No intercept will be used in the calculation if this set to false."
      ],
      "metadata": {
        "id": "6VILSUtIiX0Y"
      }
    },
    {
      "cell_type": "markdown",
      "source": [
        "normalize − Boolean, optional, default False\n",
        "\n",
        "If this parameter is set to True, the regressor X will be normalized before regression. The normalization will be done by subtracting the mean and dividing it by L2 norm. If fit_intercept = False, this parameter will be ignored."
      ],
      "metadata": {
        "id": "8Xb_IIs1iZR3"
      }
    },
    {
      "cell_type": "markdown",
      "source": [
        "\t\n",
        "copy_X − Boolean, optional, default True\n",
        "\n",
        "By default, it is true which means X will be copied. But if it is set to false, X may be overwritten."
      ],
      "metadata": {
        "id": "A-4Vgd8vibQX"
      }
    },
    {
      "cell_type": "markdown",
      "source": [
        "\t\n",
        "n_jobs − int or None, optional(default = None)\n",
        "\n",
        "It represents the number of jobs to use for the computation."
      ],
      "metadata": {
        "id": "uvLhlPj3idcj"
      }
    },
    {
      "cell_type": "code",
      "source": [
        "regression = LinearRegression(fit_intercept=True,normalize=True,copy_X=True,n_jobs=2).fit(X,y)\n",
        "regression.predict(np.array([[3,5]]))"
      ],
      "metadata": {
        "colab": {
          "base_uri": "https://localhost:8080/"
        },
        "id": "72PGywbniVg8",
        "outputId": "f87320a0-b770-4ada-99d5-b3dcc2d2ee30"
      },
      "execution_count": 8,
      "outputs": [
        {
          "output_type": "stream",
          "name": "stderr",
          "text": [
            "/usr/local/lib/python3.7/dist-packages/sklearn/linear_model/_base.py:145: FutureWarning: 'normalize' was deprecated in version 1.0 and will be removed in 1.2.\n",
            "If you wish to scale the data, use Pipeline with a StandardScaler in a preprocessing stage. To reproduce the previous behavior:\n",
            "\n",
            "from sklearn.pipeline import make_pipeline\n",
            "\n",
            "model = make_pipeline(StandardScaler(with_mean=False), LinearRegression())\n",
            "\n",
            "If you wish to pass a sample_weight parameter, you need to pass it as a fit parameter to each step of the pipeline as follows:\n",
            "\n",
            "kwargs = {s[0] + '__sample_weight': sample_weight for s in model.steps}\n",
            "model.fit(X, y, **kwargs)\n",
            "\n",
            "\n",
            "  FutureWarning,\n"
          ]
        },
        {
          "output_type": "execute_result",
          "data": {
            "text/plain": [
              "array([16.])"
            ]
          },
          "metadata": {},
          "execution_count": 8
        }
      ]
    },
    {
      "cell_type": "code",
      "source": [
        "regression.score(X,y)"
      ],
      "metadata": {
        "colab": {
          "base_uri": "https://localhost:8080/"
        },
        "id": "jheFIOouj3D6",
        "outputId": "e3a8888e-c7ee-4f70-a17b-b457fde04338"
      },
      "execution_count": 10,
      "outputs": [
        {
          "output_type": "execute_result",
          "data": {
            "text/plain": [
              "1.0"
            ]
          },
          "metadata": {},
          "execution_count": 10
        }
      ]
    },
    {
      "cell_type": "code",
      "source": [
        "regression.coef_"
      ],
      "metadata": {
        "colab": {
          "base_uri": "https://localhost:8080/"
        },
        "id": "1UmsGcbLkObT",
        "outputId": "8b7a9adb-e604-459b-a14e-5a8d8d8ea0e2"
      },
      "execution_count": 11,
      "outputs": [
        {
          "output_type": "execute_result",
          "data": {
            "text/plain": [
              "array([1., 2.])"
            ]
          },
          "metadata": {},
          "execution_count": 11
        }
      ]
    },
    {
      "cell_type": "code",
      "source": [
        "regression.intercept_"
      ],
      "metadata": {
        "colab": {
          "base_uri": "https://localhost:8080/"
        },
        "id": "6vQ61GqMkShq",
        "outputId": "b63f319c-bbf6-4cca-f360-31204e13d7b7"
      },
      "execution_count": 12,
      "outputs": [
        {
          "output_type": "execute_result",
          "data": {
            "text/plain": [
              "3.0000000000000018"
            ]
          },
          "metadata": {},
          "execution_count": 12
        }
      ]
    }
  ]
}