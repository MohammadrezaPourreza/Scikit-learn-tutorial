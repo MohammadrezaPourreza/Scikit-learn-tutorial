{
  "nbformat": 4,
  "nbformat_minor": 0,
  "metadata": {
    "colab": {
      "name": "LASSO.ipynb",
      "provenance": [],
      "authorship_tag": "ABX9TyNWCg74+TrnoHv73W1Ga4Hs",
      "include_colab_link": true
    },
    "kernelspec": {
      "name": "python3",
      "display_name": "Python 3"
    },
    "language_info": {
      "name": "python"
    }
  },
  "cells": [
    {
      "cell_type": "markdown",
      "metadata": {
        "id": "view-in-github",
        "colab_type": "text"
      },
      "source": [
        "<a href=\"https://colab.research.google.com/github/MohammadrezaPourreza/Scikit-learn-tutorial/blob/main/LASSO.ipynb\" target=\"_parent\"><img src=\"https://colab.research.google.com/assets/colab-badge.svg\" alt=\"Open In Colab\"/></a>"
      ]
    },
    {
      "cell_type": "markdown",
      "source": [
        "LASSO = LASSO is the regularisation technique that performs L1 regularisation. It modifies the loss function by adding the penalty (shrinkage quantity) equivalent to the summation of the absolute value of coefficients."
      ],
      "metadata": {
        "id": "opSCLakpjF43"
      }
    },
    {
      "cell_type": "markdown",
      "source": [
        "**PARAMETERS**"
      ],
      "metadata": {
        "id": "413gIPEAjKGO"
      }
    },
    {
      "cell_type": "markdown",
      "source": [
        "alpha − float, optional, default = 1.0\n",
        "\n",
        "Alpha, the constant that multiplies the L1 term, is the tuning parameter that decides how much we want to penalize the model. The default value is 1.0."
      ],
      "metadata": {
        "id": "S64wF3yH0YWz"
      }
    },
    {
      "cell_type": "markdown",
      "source": [
        "fit_intercept − Boolean, optional. Default=True\n",
        "\n",
        "This parameter specifies that a constant (bias or intercept) should be added to the decision function. No intercept will be used in calculation, if it will set to false."
      ],
      "metadata": {
        "id": "c5sZ4QNU9NbE"
      }
    },
    {
      "cell_type": "markdown",
      "source": [
        "\t\n",
        "tol − float, optional\n",
        "\n",
        "This parameter represents the tolerance for the optimization. The tol value and updates would be compared and if found updates smaller than tol, the optimization checks the dual gap for optimality and continues until it is smaller than tol."
      ],
      "metadata": {
        "id": "7y4jGD_S9QgF"
      }
    },
    {
      "cell_type": "markdown",
      "source": [
        "normalize − Boolean, optional, default = False\n",
        "\n",
        "If this parameter is set to True, the regressor X will be normalized before regression. The normalization will be done by subtracting the mean and dividing it by L2 norm. If fit_intercept = False, this parameter will be ignored."
      ],
      "metadata": {
        "id": "En_ql4Eu9YIk"
      }
    },
    {
      "cell_type": "markdown",
      "source": [
        "copy_X − Boolean, optional, default = True\n",
        "\n",
        "By default, it is true which means X will be copied. But if it is set to false, X may be overwritten."
      ],
      "metadata": {
        "id": "yi42oAXt9bSv"
      }
    },
    {
      "cell_type": "markdown",
      "source": [
        "\t\n",
        "max_iter − int, optional\n",
        "\n",
        "As name suggest, it represents the maximum number of iterations taken for conjugate gradient solvers."
      ],
      "metadata": {
        "id": "6erLKSgp9dsi"
      }
    },
    {
      "cell_type": "markdown",
      "source": [
        "\t\n",
        "warm_start − bool, optional, default = false\n",
        "\n",
        "With this parameter set to True, we can reuse the solution of the previous call to fit as initialization. If we choose default i.e. false, it will erase the previous solution."
      ],
      "metadata": {
        "id": "f2FWqalu9fkk"
      }
    },
    {
      "cell_type": "markdown",
      "source": [
        "selection − str, default=‘cyclic’\n",
        "\n",
        "Cyclic − The default value is cyclic which means the features will be looping over sequentially by default.\n",
        "\n",
        "Random − If we set the selection to random, a random coefficient will be updated every iteration."
      ],
      "metadata": {
        "id": "V1RWv4aP9j21"
      }
    },
    {
      "cell_type": "code",
      "source": [
        "from sklearn import linear_model\n",
        "Lreg = linear_model.Lasso(alpha = 0.5)\n",
        "Rreg = linear_model.Ridge(alpha = 0.5)\n",
        "Lreg.fit([[0,0], [1, 1], [2, 2]], [0, 1, 2])\n",
        "Rreg.fit([[0,0], [1, 1], [2, 2]], [0, 1, 2])"
      ],
      "metadata": {
        "colab": {
          "base_uri": "https://localhost:8080/"
        },
        "id": "VpnSyXkPjS0j",
        "outputId": "076992c0-fb08-41a1-c1ea-70fe87ebc0ec"
      },
      "execution_count": 13,
      "outputs": [
        {
          "output_type": "execute_result",
          "data": {
            "text/plain": [
              "Ridge(alpha=0.5)"
            ]
          },
          "metadata": {},
          "execution_count": 13
        }
      ]
    },
    {
      "cell_type": "code",
      "source": [
        "Lreg.predict([[0,1]])"
      ],
      "metadata": {
        "colab": {
          "base_uri": "https://localhost:8080/"
        },
        "id": "p6jWM4Jmkecm",
        "outputId": "1a0c8ffc-642f-4e09-a73b-b51509d2c88c"
      },
      "execution_count": 14,
      "outputs": [
        {
          "output_type": "execute_result",
          "data": {
            "text/plain": [
              "array([0.75])"
            ]
          },
          "metadata": {},
          "execution_count": 14
        }
      ]
    },
    {
      "cell_type": "code",
      "source": [
        "Rreg.predict([[0,1]])"
      ],
      "metadata": {
        "colab": {
          "base_uri": "https://localhost:8080/"
        },
        "id": "8ClO4U30khiC",
        "outputId": "0cca4d57-d606-4271-e07b-e9095eadcc2b"
      },
      "execution_count": 15,
      "outputs": [
        {
          "output_type": "execute_result",
          "data": {
            "text/plain": [
              "array([0.55555556])"
            ]
          },
          "metadata": {},
          "execution_count": 15
        }
      ]
    },
    {
      "cell_type": "code",
      "source": [
        "Rreg.score([[0,0], [1, 1], [2, 2]], [0, 1, 2])"
      ],
      "metadata": {
        "id": "qMfkGCEvk4HR",
        "outputId": "f11b07f4-ab30-48b7-d2d0-dfe2f8ad3eed",
        "colab": {
          "base_uri": "https://localhost:8080/"
        }
      },
      "execution_count": 16,
      "outputs": [
        {
          "output_type": "execute_result",
          "data": {
            "text/plain": [
              "0.9876543209876543"
            ]
          },
          "metadata": {},
          "execution_count": 16
        }
      ]
    },
    {
      "cell_type": "code",
      "source": [
        "Lreg.score([[0,0], [1, 1], [2, 2]], [0, 1, 2])"
      ],
      "metadata": {
        "colab": {
          "base_uri": "https://localhost:8080/"
        },
        "id": "UNO6_7cu-CrF",
        "outputId": "68b9f8be-7089-4f89-dad2-841147796876"
      },
      "execution_count": 17,
      "outputs": [
        {
          "output_type": "execute_result",
          "data": {
            "text/plain": [
              "0.4375"
            ]
          },
          "metadata": {},
          "execution_count": 17
        }
      ]
    },
    {
      "cell_type": "code",
      "source": [
        "Lreg.coef_"
      ],
      "metadata": {
        "id": "gxFVAki-k6pm",
        "outputId": "81fb8653-a9d2-49ae-e43b-1a6540ea9a01",
        "colab": {
          "base_uri": "https://localhost:8080/"
        }
      },
      "execution_count": 18,
      "outputs": [
        {
          "output_type": "execute_result",
          "data": {
            "text/plain": [
              "array([0.25, 0.  ])"
            ]
          },
          "metadata": {},
          "execution_count": 18
        }
      ]
    }
  ]
}