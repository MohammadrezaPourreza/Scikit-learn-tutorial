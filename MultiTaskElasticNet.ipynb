{
  "nbformat": 4,
  "nbformat_minor": 0,
  "metadata": {
    "colab": {
      "name": "MultiTaskElasticNet.ipynb",
      "provenance": [],
      "authorship_tag": "ABX9TyPj4q0rLOER+ilxYr4eROXp",
      "include_colab_link": true
    },
    "kernelspec": {
      "name": "python3",
      "display_name": "Python 3"
    },
    "language_info": {
      "name": "python"
    }
  },
  "cells": [
    {
      "cell_type": "markdown",
      "metadata": {
        "id": "view-in-github",
        "colab_type": "text"
      },
      "source": [
        "<a href=\"https://colab.research.google.com/github/MohammadrezaPourreza/Scikit-learn-tutorial/blob/main/MultiTaskElasticNet.ipynb\" target=\"_parent\"><img src=\"https://colab.research.google.com/assets/colab-badge.svg\" alt=\"Open In Colab\"/></a>"
      ]
    },
    {
      "cell_type": "markdown",
      "source": [
        "It is an Elastic-Net model that allows to fit multiple regression problems jointly enforcing the selected features to be same for all the regression problems, also called tasks."
      ],
      "metadata": {
        "id": "We_0FTNj8hL9"
      }
    },
    {
      "cell_type": "markdown",
      "source": [
        "In this, the response y is a 2D array of shape (n_samples, n_tasks)."
      ],
      "metadata": {
        "id": "VxoDIBFCEBDT"
      }
    },
    {
      "cell_type": "markdown",
      "source": [
        "**PARAMETERS**"
      ],
      "metadata": {
        "id": "v-3TDueS8nML"
      }
    },
    {
      "cell_type": "markdown",
      "source": [
        "\t\n",
        "alpha − float, optional, default = 1.0\n",
        "\n",
        "Alpha, the constant that multiplies the L1/L2 term, is the tuning parameter that decides how much we want to penalize the model. The default value is 1.0."
      ],
      "metadata": {
        "id": "Joglnsw1-B71"
      }
    },
    {
      "cell_type": "markdown",
      "source": [
        "l1_ratio − float\n",
        "\n",
        "This is called the ElasticNet mixing parameter. Its range is 0 < = l1_ratio < = 1. If l1_ratio = 1, the penalty would be L1 penalty. If l1_ratio = 0, the penalty would be an L2 penalty. If the value of l1 ratio is between 0 and 1, the penalty would be the combination of L1 and L2."
      ],
      "metadata": {
        "id": "EclrflJQ-D5I"
      }
    },
    {
      "cell_type": "markdown",
      "source": [
        "fit_intercept − Boolean, optional. Default=True\n",
        "\n",
        "This parameter specifies that a constant (bias or intercept) should be added to the decision function. No intercept will be used in calculation, if it will set to false."
      ],
      "metadata": {
        "id": "9jkamQRA-F7N"
      }
    },
    {
      "cell_type": "markdown",
      "source": [
        "ol − float, optional\n",
        "\n",
        "This parameter represents the tolerance for the optimization. The tol value and updates would be compared and if found updates smaller than tol, the optimization checks the dual gap for optimality and continues until it is smaller than tol."
      ],
      "metadata": {
        "id": "Wsl6oNAh-JbF"
      }
    },
    {
      "cell_type": "markdown",
      "source": [
        "normalise − Boolean, optional, default = False\n",
        "\n",
        "If this parameter is set to True, the regressor X will be normalised before regression. The normalisation will be done by subtracting the mean and dividing it by L2 norm. If fit_intercept = False, this parameter will be ignored."
      ],
      "metadata": {
        "id": "iH4cmBAb-NOR"
      }
    },
    {
      "cell_type": "markdown",
      "source": [
        "precompute − True|False|array-like, default=False\n",
        "\n",
        "With this parameter we can decide whether to use a precomputed Gram matrix to speed up the calculation or not. To preserve sparsity, it would always be true for sparse input."
      ],
      "metadata": {
        "id": "6NQaCbYf-PZQ"
      }
    },
    {
      "cell_type": "markdown",
      "source": [
        "copy_X − Boolean, optional, default = True\n",
        "\n",
        "By default, it is true which means X will be copied. But if it is set to false, X may be overwritten."
      ],
      "metadata": {
        "id": "prSKjvU_-YGl"
      }
    },
    {
      "cell_type": "markdown",
      "source": [
        "max_iter − int, optional\n",
        "\n",
        "As name suggest, it represents the maximum number of iterations taken for conjugate gradient solvers."
      ],
      "metadata": {
        "id": "-6b4waq2-ZmY"
      }
    },
    {
      "cell_type": "markdown",
      "source": [
        "warm_start − bool, optional, default = false\n",
        "\n",
        "With this parameter set to True, we can reuse the solution of the previous call to fit as initialisation. If we choose default i.e. false, it will erase the previous solution."
      ],
      "metadata": {
        "id": "RKCzDA1x-eNm"
      }
    },
    {
      "cell_type": "markdown",
      "source": [
        "selection − str, default=‘cyclic’\n",
        "\n",
        "Cyclic − The default value is cyclic which means the features will be looping over sequentially by default.\n",
        "\n",
        "Random − If we set the selection to random, a random coefficient will be updated every iteration."
      ],
      "metadata": {
        "id": "KoKadOXJ-fB-"
      }
    },
    {
      "cell_type": "code",
      "source": [
        "from sklearn import linear_model\n",
        "MTENReg = linear_model.MultiTaskElasticNet(alpha = 0.5)\n",
        "MTENReg.fit([[0,0], [1, 1], [2, 2]], [[0, 0],[1,1],[2,2]])"
      ],
      "metadata": {
        "colab": {
          "base_uri": "https://localhost:8080/"
        },
        "id": "EJ1qQZG_-plH",
        "outputId": "af8826e7-acba-4ada-a355-9bea3dacedd5"
      },
      "execution_count": 10,
      "outputs": [
        {
          "output_type": "execute_result",
          "data": {
            "text/plain": [
              "MultiTaskElasticNet(alpha=0.5)"
            ]
          },
          "metadata": {},
          "execution_count": 10
        }
      ]
    },
    {
      "cell_type": "code",
      "source": [
        "MTENReg.predict([[1,0]])"
      ],
      "metadata": {
        "colab": {
          "base_uri": "https://localhost:8080/"
        },
        "id": "4MWQIQSN-sxE",
        "outputId": "cf3abaa5-d02a-4292-ae54-8e8ca9efeb99"
      },
      "execution_count": 11,
      "outputs": [
        {
          "output_type": "execute_result",
          "data": {
            "text/plain": [
              "array([[0.69061776, 0.69061776]])"
            ]
          },
          "metadata": {},
          "execution_count": 11
        }
      ]
    },
    {
      "cell_type": "code",
      "source": [
        "MTENReg.coef_"
      ],
      "metadata": {
        "colab": {
          "base_uri": "https://localhost:8080/"
        },
        "id": "uRmZwJFK-yaW",
        "outputId": "f2079a76-b195-4e23-cd22-5f6c47af06ac"
      },
      "execution_count": 12,
      "outputs": [
        {
          "output_type": "execute_result",
          "data": {
            "text/plain": [
              "array([[0.30943437, 0.30938224],\n",
              "       [0.30943437, 0.30938224]])"
            ]
          },
          "metadata": {},
          "execution_count": 12
        }
      ]
    }
  ]
}