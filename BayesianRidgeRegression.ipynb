{
  "nbformat": 4,
  "nbformat_minor": 0,
  "metadata": {
    "colab": {
      "name": "BayesianRidgeRegression.ipynb",
      "provenance": [],
      "authorship_tag": "ABX9TyNgJ20xV0xTjMupdQx06LyN",
      "include_colab_link": true
    },
    "kernelspec": {
      "name": "python3",
      "display_name": "Python 3"
    },
    "language_info": {
      "name": "python"
    }
  },
  "cells": [
    {
      "cell_type": "markdown",
      "metadata": {
        "id": "view-in-github",
        "colab_type": "text"
      },
      "source": [
        "<a href=\"https://colab.research.google.com/github/MohammadrezaPourreza/Scikit-learn-tutorial/blob/main/BayesianRidgeRegression.ipynb\" target=\"_parent\"><img src=\"https://colab.research.google.com/assets/colab-badge.svg\" alt=\"Open In Colab\"/></a>"
      ]
    },
    {
      "cell_type": "markdown",
      "source": [
        "RidgeRegression = Bayesian regression allows a natural mechanism to survive insufficient data or poorly distributed data by formulating linear regression using probability distributors rather than point estimates. The output or response ‘y’ is assumed to drawn from a probability distribution rather than estimated as a single value."
      ],
      "metadata": {
        "id": "opSCLakpjF43"
      }
    },
    {
      "cell_type": "markdown",
      "source": [
        "**PARAMETERS**"
      ],
      "metadata": {
        "id": "413gIPEAjKGO"
      }
    },
    {
      "cell_type": "markdown",
      "source": [
        "n_iter − int, optional\n",
        "\n",
        "It represents the maximum number of iterations. The default value is 300 but the user-defined value must be greater than or equal to 1."
      ],
      "metadata": {
        "id": "S64wF3yH0YWz"
      }
    },
    {
      "cell_type": "markdown",
      "source": [
        "fit_intercept − Boolean, optional, default True\n",
        "\n",
        "It decides whether to calculate the intercept for this model or not. No intercept will be used in calculation, if it will set to false."
      ],
      "metadata": {
        "id": "BzhWBzSG0Zi1"
      }
    },
    {
      "cell_type": "markdown",
      "source": [
        "\t\n",
        "tol − float, optional, default=1.e-3\n",
        "\n",
        "It represents the precision of the solution and will stop the algorithm if w has converged."
      ],
      "metadata": {
        "id": "wNtf_jqD0cns"
      }
    },
    {
      "cell_type": "markdown",
      "source": [
        "\t\n",
        "alpha_1 − float, optional, default=1.e-6\n",
        "\n",
        "It is the 1st hyperparameter which is a shape parameter for the Gamma distribution prior over the alpha parameter."
      ],
      "metadata": {
        "id": "hqlC4PyD0fh8"
      }
    },
    {
      "cell_type": "markdown",
      "source": [
        "alpha_2 − float, optional, default=1.e-6\n",
        "\n",
        "It is the 2nd hyperparameter which is an inverse scale parameter for the Gamma distribution prior over the alpha parameter."
      ],
      "metadata": {
        "id": "uqc8bi9W0rqP"
      }
    },
    {
      "cell_type": "markdown",
      "source": [
        "lambda_1 − float, optional, default=1.e-6\n",
        "\n",
        "It is the 1st hyperparameter which is a shape parameter for the Gamma distribution prior over the lambda parameter."
      ],
      "metadata": {
        "id": "yu1SmRoF04Rq"
      }
    },
    {
      "cell_type": "markdown",
      "source": [
        "\t\n",
        "lambda_2 − float, optional, default=1.e-6\n",
        "\n",
        "It is the 2nd hyperparameter which is an inverse scale parameter for the Gamma distribution prior over the lambda parameter."
      ],
      "metadata": {
        "id": "jG8c5nMh046i"
      }
    },
    {
      "cell_type": "markdown",
      "source": [
        "copy_X − Boolean, optional, default = True\n",
        "\n",
        "By default, it is true which means X will be copied. But if it is set to false, X may be overwritten."
      ],
      "metadata": {
        "id": "TRJODGpS07DC"
      }
    },
    {
      "cell_type": "markdown",
      "source": [
        "compute_score − boolean, optional, default=False\n",
        "\n",
        "If set to true, it computes the log marginal likelihood at each iteration of the optimization."
      ],
      "metadata": {
        "id": "weUeuVGG0-L5"
      }
    },
    {
      "cell_type": "markdown",
      "source": [
        "verbose − Boolean, optional, default=False\n",
        "\n",
        "By default, it is false but if set true, verbose mode will be enabled while fitting the model."
      ],
      "metadata": {
        "id": "TT0wLPDt1Bsh"
      }
    },
    {
      "cell_type": "code",
      "source": [
        "from sklearn import linear_model\n",
        "X = [[0, 0], [1, 1], [2, 2], [3, 3]]\n",
        "Y = [0, 1, 2, 3]"
      ],
      "metadata": {
        "id": "VpnSyXkPjS0j"
      },
      "execution_count": 7,
      "outputs": []
    },
    {
      "cell_type": "code",
      "source": [
        "BayReg = linear_model.BayesianRidge()\n",
        "BayReg.fit(X, Y)"
      ],
      "metadata": {
        "colab": {
          "base_uri": "https://localhost:8080/"
        },
        "id": "p6jWM4Jmkecm",
        "outputId": "d8e37772-447d-4b08-f5cd-0993a1b383e3"
      },
      "execution_count": 8,
      "outputs": [
        {
          "output_type": "execute_result",
          "data": {
            "text/plain": [
              "BayesianRidge()"
            ]
          },
          "metadata": {},
          "execution_count": 8
        }
      ]
    },
    {
      "cell_type": "code",
      "source": [
        "BayReg.predict([[1,1]])"
      ],
      "metadata": {
        "colab": {
          "base_uri": "https://localhost:8080/"
        },
        "id": "8ClO4U30khiC",
        "outputId": "58a7b8e5-b09c-46c3-b128-9f4ddfa28546"
      },
      "execution_count": 9,
      "outputs": [
        {
          "output_type": "execute_result",
          "data": {
            "text/plain": [
              "array([1.00000007])"
            ]
          },
          "metadata": {},
          "execution_count": 9
        }
      ]
    },
    {
      "cell_type": "code",
      "source": [
        "BayReg.coef_"
      ],
      "metadata": {
        "id": "qMfkGCEvk4HR",
        "outputId": "bd16757d-9284-47f4-ae94-319e4e9aeea0",
        "colab": {
          "base_uri": "https://localhost:8080/"
        }
      },
      "execution_count": 10,
      "outputs": [
        {
          "output_type": "execute_result",
          "data": {
            "text/plain": [
              "array([0.49999993, 0.49999993])"
            ]
          },
          "metadata": {},
          "execution_count": 10
        }
      ]
    },
    {
      "cell_type": "code",
      "source": [
        "BayReg.intercept_"
      ],
      "metadata": {
        "id": "gxFVAki-k6pm",
        "outputId": "4547d638-79e8-44e1-b4b8-0ab116ca067b",
        "colab": {
          "base_uri": "https://localhost:8080/"
        }
      },
      "execution_count": 12,
      "outputs": [
        {
          "output_type": "execute_result",
          "data": {
            "text/plain": [
              "1.9999946720972162e-07"
            ]
          },
          "metadata": {},
          "execution_count": 12
        }
      ]
    }
  ]
}