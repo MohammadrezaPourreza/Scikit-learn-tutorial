{
  "nbformat": 4,
  "nbformat_minor": 0,
  "metadata": {
    "colab": {
      "name": "LocalOutlierFactor.ipynb",
      "provenance": [],
      "authorship_tag": "ABX9TyMSQb5b6OLF+FAma96+69KO",
      "include_colab_link": true
    },
    "kernelspec": {
      "name": "python3",
      "display_name": "Python 3"
    },
    "language_info": {
      "name": "python"
    }
  },
  "cells": [
    {
      "cell_type": "markdown",
      "metadata": {
        "id": "view-in-github",
        "colab_type": "text"
      },
      "source": [
        "<a href=\"https://colab.research.google.com/github/MohammadrezaPourreza/Scikit-learn-tutorial/blob/main/LocalOutlierFactor.ipynb\" target=\"_parent\"><img src=\"https://colab.research.google.com/assets/colab-badge.svg\" alt=\"Open In Colab\"/></a>"
      ]
    },
    {
      "cell_type": "markdown",
      "source": [
        "Local Outlier Factor (LOF) algorithm is another efficient algorithm to perform outlier detection on high dimension data."
      ],
      "metadata": {
        "id": "_nCK9DTNahZh"
      }
    },
    {
      "cell_type": "markdown",
      "source": [
        "**PARAMETERS**"
      ],
      "metadata": {
        "id": "zboa9LY9aiGr"
      }
    },
    {
      "cell_type": "markdown",
      "source": [
        "n_neighbors − int, optional, default = 20\n",
        "\n",
        "It represents the number of neighbors use by default for kneighbors query. All samples would be used if ."
      ],
      "metadata": {
        "id": "hke0q1VlakB1"
      }
    },
    {
      "cell_type": "markdown",
      "source": [
        "algorithm − optional\n",
        "\n",
        "Which algorithm to be used for computing nearest neighbors.\n",
        "\n",
        "If you choose ball_tree, it will use BallTree algorithm.\n",
        "\n",
        "If you choose kd_tree, it will use KDTree algorithm.\n",
        "\n",
        "If you choose brute, it will use brute-force search algorithm.\n",
        "\n",
        "If you choose auto, it will decide the most appropriate algorithm on the basis of the value we passed to fit() method."
      ],
      "metadata": {
        "id": "305p3Sk3ao91"
      }
    },
    {
      "cell_type": "markdown",
      "source": [
        "leaf_size − int, optional, default = 30\n",
        "\n",
        "The value of this parameter can affect the speed of the construction and query. It also affects the memory required to store the tree. This parameter is passed to BallTree or KdTree algorithms."
      ],
      "metadata": {
        "id": "qhfPFmNUav0M"
      }
    },
    {
      "cell_type": "markdown",
      "source": [
        "contamination − auto or float, optional, default = auto\n",
        "\n",
        "It provides the proportion of the outliers in the data set. If we set it default i.e. auto, it will determine the threshold as in the original paper. If set to float, the range of contamination will be in the range of [0,0.5]."
      ],
      "metadata": {
        "id": "j68gYE6Ia0WG"
      }
    },
    {
      "cell_type": "markdown",
      "source": [
        "metric − string or callable, default\n",
        "\n",
        "It represents the metric used for distance computation."
      ],
      "metadata": {
        "id": "Xi-rZbxia5w_"
      }
    },
    {
      "cell_type": "markdown",
      "source": [
        "P − int, optional (default = 2)\n",
        "\n",
        "It is the parameter for the Minkowski metric. P=1 is equivalent to using manhattan_distance i.e. L1, whereas P=2 is equivalent to using euclidean_distance i.e. L2."
      ],
      "metadata": {
        "id": "4MQu2lWLa75l"
      }
    },
    {
      "cell_type": "markdown",
      "source": [
        "novelty − Boolean, (default = False)\n",
        "\n",
        "By default, LOF algorithm is used for outlier detection but it can be used for novelty detection if we set novelty = true."
      ],
      "metadata": {
        "id": "8knK4Hcja_RM"
      }
    },
    {
      "cell_type": "code",
      "source": [
        "from sklearn.neighbors import NearestNeighbors\n",
        "samples = [[0., 0., 0.], [0., .5, 0.], [1., 1., .5]]\n",
        "LOFneigh = NearestNeighbors(n_neighbors = 1, algorithm = \"ball_tree\",p=1)\n",
        "LOFneigh.fit(samples)"
      ],
      "metadata": {
        "colab": {
          "base_uri": "https://localhost:8080/"
        },
        "id": "QTaAIdkLbDau",
        "outputId": "65e46394-96e3-4f29-af84-8f731cbbea80"
      },
      "execution_count": 1,
      "outputs": [
        {
          "output_type": "execute_result",
          "data": {
            "text/plain": [
              "NearestNeighbors(algorithm='ball_tree', n_neighbors=1, p=1)"
            ]
          },
          "metadata": {},
          "execution_count": 1
        }
      ]
    }
  ]
}