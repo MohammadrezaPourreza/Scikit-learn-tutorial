{
  "nbformat": 4,
  "nbformat_minor": 0,
  "metadata": {
    "colab": {
      "name": "SVC.ipynb",
      "provenance": [],
      "authorship_tag": "ABX9TyO4eij8nYbjn4I1c84PiA2o",
      "include_colab_link": true
    },
    "kernelspec": {
      "name": "python3",
      "display_name": "Python 3"
    },
    "language_info": {
      "name": "python"
    }
  },
  "cells": [
    {
      "cell_type": "markdown",
      "metadata": {
        "id": "view-in-github",
        "colab_type": "text"
      },
      "source": [
        "<a href=\"https://colab.research.google.com/github/MohammadrezaPourreza/Scikit-learn-tutorial/blob/main/SVC.ipynb\" target=\"_parent\"><img src=\"https://colab.research.google.com/assets/colab-badge.svg\" alt=\"Open In Colab\"/></a>"
      ]
    },
    {
      "cell_type": "markdown",
      "source": [
        "SVMs can bu used for classification, regression and outliers' detection"
      ],
      "metadata": {
        "id": "ckahskbo1euK"
      }
    },
    {
      "cell_type": "markdown",
      "source": [
        "SVMs are popular and memory efficient because they use a subset of training points in the decision function."
      ],
      "metadata": {
        "id": "rO6vu_y02Bow"
      }
    },
    {
      "cell_type": "markdown",
      "source": [
        "**SVC**"
      ],
      "metadata": {
        "id": "4VBG37IT2EDc"
      }
    },
    {
      "cell_type": "markdown",
      "source": [
        "This class handles the multiclass support according to one-vs-one scheme."
      ],
      "metadata": {
        "id": "sdmbtbna4SqO"
      }
    },
    {
      "cell_type": "markdown",
      "source": [
        "**Parameters**"
      ],
      "metadata": {
        "id": "U3AZVI9X4Vml"
      }
    },
    {
      "cell_type": "markdown",
      "source": [
        "The C parameter tells the SVM optimization how much you want to avoid misclassifying each training example."
      ],
      "metadata": {
        "id": "z3xFmR0W4YQe"
      }
    },
    {
      "cell_type": "markdown",
      "source": [
        "kernel − string, optional, default = ‘rbf’\n",
        "This parameter specifies the type of kernel to be used in the algorithm. we can choose any one among, ‘linear’, ‘poly’, ‘rbf’, ‘sigmoid’, ‘precomputed’. The default value of kernel would be ‘rbf’"
      ],
      "metadata": {
        "id": "2wcTzS-z4cBf"
      }
    },
    {
      "cell_type": "markdown",
      "source": [
        "degree − int, optional, default = 3\n",
        "\n",
        "It represents the degree of the ‘poly’ kernel function and will be ignored by all other kernels."
      ],
      "metadata": {
        "id": "CzBbruiK4ket"
      }
    },
    {
      "cell_type": "markdown",
      "source": [
        "\t\n",
        "gamma − {‘scale’, ‘auto’} or float,\n",
        "\n",
        "It is the kernel coefficient for kernels ‘rbf’, ‘poly’ and ‘sigmoid’."
      ],
      "metadata": {
        "id": "y9zfGTx34mno"
      }
    },
    {
      "cell_type": "markdown",
      "source": [
        "coef0 − float, optional, Default=0.0\n",
        "\n",
        "An independent term in kernel function which is only significant in ‘poly’ and ‘sigmoid’."
      ],
      "metadata": {
        "id": "Lf5yOfvc4qmn"
      }
    },
    {
      "cell_type": "markdown",
      "source": [
        "tol − float, optional, default = 1.e-3\n",
        "\n",
        "This parameter represents the stopping criterion for iterations."
      ],
      "metadata": {
        "id": "PaVOFQgr40Oq"
      }
    },
    {
      "cell_type": "markdown",
      "source": [
        "shrinking − Boolean, optional, default = True\n",
        "\n",
        "This parameter represents that whether we want to use shrinking heuristic or no"
      ],
      "metadata": {
        "id": "YhMAG2eL440b"
      }
    },
    {
      "cell_type": "markdown",
      "source": [
        "\t\n",
        "probability − boolean, optional, default = true\n",
        "\n",
        "This parameter enables or disables probability estimates. The default value is false, but it must be enabled before we call fit."
      ],
      "metadata": {
        "id": "g_6ynApc7v7b"
      }
    },
    {
      "cell_type": "markdown",
      "source": [
        "cache_size − float, optional\n",
        "\n",
        "This parameter will specify the size of the kernel cache. The value will be in MB(MegaBytes)."
      ],
      "metadata": {
        "id": "RLeRs5-h7whg"
      }
    },
    {
      "cell_type": "markdown",
      "source": [
        "cache_size − float, optional\n",
        "\n",
        "This parameter will specify the size of the kernel cache. The value will be in MB(MegaBytes)."
      ],
      "metadata": {
        "id": "vcFjKx-38CSr"
      }
    },
    {
      "cell_type": "markdown",
      "source": [
        "break_ties − boolean, optional, default = false\n",
        "\n",
        "True − The predict will break ties according to the confidence values of decision_function\n",
        "\n",
        "False − The predict will return the first class among the tied classes."
      ],
      "metadata": {
        "id": "RGeYWgzw8C0D"
      }
    },
    {
      "cell_type": "code",
      "source": [
        "import numpy as np\n",
        "X = np.array([[-1, -1], [-2, -1], [1, 1], [2, 1]])\n",
        "y = np.array([1, 1, 2, 2])\n",
        "from sklearn.svm import SVC\n",
        "SVCClf = SVC(kernel = 'linear',gamma = 'scale', shrinking = False,)\n",
        "SVCClf.fit(X, y)"
      ],
      "metadata": {
        "colab": {
          "base_uri": "https://localhost:8080/"
        },
        "id": "ySMmWj8y8icc",
        "outputId": "36936eb7-e2c9-4b1b-819a-55f0fa956baf"
      },
      "execution_count": 1,
      "outputs": [
        {
          "output_type": "execute_result",
          "data": {
            "text/plain": [
              "SVC(kernel='linear', shrinking=False)"
            ]
          },
          "metadata": {},
          "execution_count": 1
        }
      ]
    },
    {
      "cell_type": "code",
      "source": [
        "SVCClf.coef_"
      ],
      "metadata": {
        "colab": {
          "base_uri": "https://localhost:8080/"
        },
        "id": "x_VpQABwH0YK",
        "outputId": "194a1dd4-47b0-4349-d7b0-6fc0e82dea5e"
      },
      "execution_count": 2,
      "outputs": [
        {
          "output_type": "execute_result",
          "data": {
            "text/plain": [
              "array([[0.5, 0.5]])"
            ]
          },
          "metadata": {},
          "execution_count": 2
        }
      ]
    },
    {
      "cell_type": "code",
      "source": [
        "SVCClf.predict([[-0.5,-0.8]])"
      ],
      "metadata": {
        "colab": {
          "base_uri": "https://localhost:8080/"
        },
        "id": "V4jY5pfEIIOY",
        "outputId": "29821c85-cbac-4680-8fdf-996892c5084a"
      },
      "execution_count": 3,
      "outputs": [
        {
          "output_type": "execute_result",
          "data": {
            "text/plain": [
              "array([1])"
            ]
          },
          "metadata": {},
          "execution_count": 3
        }
      ]
    },
    {
      "cell_type": "code",
      "source": [
        "SVCClf.n_support_"
      ],
      "metadata": {
        "colab": {
          "base_uri": "https://localhost:8080/"
        },
        "id": "-F4RKHirIMWy",
        "outputId": "365ee538-d50d-4f27-94a7-35337f689a17"
      },
      "execution_count": 4,
      "outputs": [
        {
          "output_type": "execute_result",
          "data": {
            "text/plain": [
              "array([1, 1], dtype=int32)"
            ]
          },
          "metadata": {},
          "execution_count": 4
        }
      ]
    },
    {
      "cell_type": "code",
      "source": [
        "SVCClf.support_vectors_"
      ],
      "metadata": {
        "colab": {
          "base_uri": "https://localhost:8080/"
        },
        "id": "DaCvhtzdIQCH",
        "outputId": "1155ac19-88a6-41c6-f276-52b47590bd83"
      },
      "execution_count": 5,
      "outputs": [
        {
          "output_type": "execute_result",
          "data": {
            "text/plain": [
              "array([[-1., -1.],\n",
              "       [ 1.,  1.]])"
            ]
          },
          "metadata": {},
          "execution_count": 5
        }
      ]
    },
    {
      "cell_type": "code",
      "source": [
        "SVCClf.support_"
      ],
      "metadata": {
        "colab": {
          "base_uri": "https://localhost:8080/"
        },
        "id": "iWEWOUz5IVvw",
        "outputId": "cb76a108-4eea-4434-fadc-6ecc0fa77834"
      },
      "execution_count": 6,
      "outputs": [
        {
          "output_type": "execute_result",
          "data": {
            "text/plain": [
              "array([0, 2], dtype=int32)"
            ]
          },
          "metadata": {},
          "execution_count": 6
        }
      ]
    },
    {
      "cell_type": "code",
      "source": [
        "SVCClf.fit_status_"
      ],
      "metadata": {
        "colab": {
          "base_uri": "https://localhost:8080/"
        },
        "id": "QCRHRG3VIaUI",
        "outputId": "cb5a0d22-3fdd-4fe8-d251-3589b05c11b4"
      },
      "execution_count": 7,
      "outputs": [
        {
          "output_type": "execute_result",
          "data": {
            "text/plain": [
              "0"
            ]
          },
          "metadata": {},
          "execution_count": 7
        }
      ]
    },
    {
      "cell_type": "markdown",
      "source": [
        "nuSVC"
      ],
      "metadata": {
        "id": "Xv9BslXNJXi5"
      }
    },
    {
      "cell_type": "markdown",
      "source": [
        "It is like SVC but NuSVC accepts slightly different sets of parameters. The parameter which is different from SVC is as follows −\n",
        "\n",
        "nu − float, optional, default = 0.5"
      ],
      "metadata": {
        "id": "pVuDh464JYm8"
      }
    },
    {
      "cell_type": "markdown",
      "source": [
        "nu is similar to C parameter of SVC but it is more interpretable and bounded between 0 and 1"
      ],
      "metadata": {
        "id": "OVbUUgVYKIfS"
      }
    },
    {
      "cell_type": "code",
      "source": [
        "import numpy as np\n",
        "X = np.array([[-1, -1], [-2, -1], [1, 1], [2, 1]])\n",
        "y = np.array([1, 1, 2, 2])\n",
        "from sklearn.svm import NuSVC\n",
        "NuSVCClf = NuSVC(kernel = 'linear',gamma = 'scale', shrinking = False,)\n",
        "NuSVCClf.fit(X, y)"
      ],
      "metadata": {
        "colab": {
          "base_uri": "https://localhost:8080/"
        },
        "id": "kQnn1ROqKP0Q",
        "outputId": "53e523ce-d60b-489a-df07-b7247595c50d"
      },
      "execution_count": 8,
      "outputs": [
        {
          "output_type": "execute_result",
          "data": {
            "text/plain": [
              "NuSVC(kernel='linear', shrinking=False)"
            ]
          },
          "metadata": {},
          "execution_count": 8
        }
      ]
    },
    {
      "cell_type": "markdown",
      "source": [
        "LinearSVC"
      ],
      "metadata": {
        "id": "X9OF9MXTMd0d"
      }
    },
    {
      "cell_type": "markdown",
      "source": [
        "It is similar to SVC having kernel = ‘linear’. The difference between them is that LinearSVC implemented in terms of liblinear while SVC is implemented in libsvm. That’s the reason LinearSVC has more flexibility in the choice of penalties and loss functions. It also scales better to large number of samples."
      ],
      "metadata": {
        "id": "H6iwOMsfMf-n"
      }
    },
    {
      "cell_type": "markdown",
      "source": [
        "However, it supports penalty and loss parameters as follows −\n",
        "\n",
        "penalty − string, L1 or L2(default = ‘L2’)\n",
        "\n",
        "This parameter is used to specify the norm (L1 or L2) used in penalization (regularization).\n",
        "\n",
        "loss − string, hinge, squared_hinge (default = squared_hinge)\n",
        "\n",
        "It represents the loss function where ‘hinge’ is the standard SVM loss and ‘squared_hinge’ is the square of hinge loss."
      ],
      "metadata": {
        "id": "vbjF0mYrMnvG"
      }
    },
    {
      "cell_type": "code",
      "source": [
        "from sklearn.svm import LinearSVC\n",
        "from sklearn.datasets import make_classification\n",
        "X, y = make_classification(n_features = 4, random_state = 0)\n",
        "LSVCClf = LinearSVC(dual = False, random_state = 0, penalty = 'l1',tol = 1e-5)\n",
        "LSVCClf.fit(X, y)"
      ],
      "metadata": {
        "colab": {
          "base_uri": "https://localhost:8080/"
        },
        "id": "sUSh8DYuNUap",
        "outputId": "b9d88e83-870f-490e-ff21-90bb2e530422"
      },
      "execution_count": 9,
      "outputs": [
        {
          "output_type": "execute_result",
          "data": {
            "text/plain": [
              "LinearSVC(dual=False, penalty='l1', random_state=0, tol=1e-05)"
            ]
          },
          "metadata": {},
          "execution_count": 9
        }
      ]
    },
    {
      "cell_type": "code",
      "source": [
        "LSVCClf.predict([[0,0,0,0]])"
      ],
      "metadata": {
        "colab": {
          "base_uri": "https://localhost:8080/"
        },
        "id": "M9ksBFoONYkm",
        "outputId": "2873bd65-ea85-47e9-e2e5-e66be928e882"
      },
      "execution_count": 10,
      "outputs": [
        {
          "output_type": "execute_result",
          "data": {
            "text/plain": [
              "array([1])"
            ]
          },
          "metadata": {},
          "execution_count": 10
        }
      ]
    }
  ]
}