{
  "nbformat": 4,
  "nbformat_minor": 0,
  "metadata": {
    "colab": {
      "name": "Scikit-learn.ipynb",
      "provenance": [],
      "authorship_tag": "ABX9TyNFZFLkcXX25ih5KJMzN0ra",
      "include_colab_link": true
    },
    "kernelspec": {
      "name": "python3",
      "display_name": "Python 3"
    },
    "language_info": {
      "name": "python"
    }
  },
  "cells": [
    {
      "cell_type": "markdown",
      "metadata": {
        "id": "view-in-github",
        "colab_type": "text"
      },
      "source": [
        "<a href=\"https://colab.research.google.com/github/MohammadrezaPourreza/Scikit-learn-tutorial/blob/main/Estimator_API.ipynb\" target=\"_parent\"><img src=\"https://colab.research.google.com/assets/colab-badge.svg\" alt=\"Open In Colab\"/></a>"
      ]
    },
    {
      "cell_type": "markdown",
      "source": [
        "**Estimator API**"
      ],
      "metadata": {
        "id": "gYAXdtSsAbs7"
      }
    },
    {
      "cell_type": "markdown",
      "source": [
        "All the machine learning algorithms in scikit-learn are implemented by Estimator API"
      ],
      "metadata": {
        "id": "Xw-6a5EGDhj4"
      }
    },
    {
      "cell_type": "markdown",
      "source": [
        "to learn from the data we can use estimator.fit(X)"
      ],
      "metadata": {
        "id": "12T-6bBPDx4s"
      }
    },
    {
      "cell_type": "markdown",
      "source": [
        "each Estimator has some parameters that must be set when intialization"
      ],
      "metadata": {
        "id": "KQkgCIoyEBQz"
      }
    },
    {
      "cell_type": "code",
      "source": [
        "from sklearn.neighbors import KNeighborsClassifier\n",
        "\n",
        "classifier = KNeighborsClassifier(n_neighbors = 3)\n",
        "# to get the parameters we can call it like an attribute\n",
        "classifier.n_neighbors"
      ],
      "metadata": {
        "colab": {
          "base_uri": "https://localhost:8080/"
        },
        "id": "DZcN1zhXEQ2n",
        "outputId": "84f7e612-416d-4e35-a0aa-307f28440237"
      },
      "execution_count": 4,
      "outputs": [
        {
          "output_type": "execute_result",
          "data": {
            "text/plain": [
              "3"
            ]
          },
          "metadata": {},
          "execution_count": 4
        }
      ]
    },
    {
      "cell_type": "markdown",
      "source": [
        "**Steps for working with scikit learn models**"
      ],
      "metadata": {
        "id": "QSW3StxkGMBs"
      }
    },
    {
      "cell_type": "code",
      "source": [
        "#1) fit the data to the model\n",
        "classifier.fit(X_train,Y_train)\n",
        "#2) for supervised learning we can use predict() method to predict the labels for unknown data\n",
        "classifier.predict(X_test)\n",
        "#3) for unsupervised learning we can use predict() or transform() to infer properties of the data"
      ],
      "metadata": {
        "id": "wE4-Cr11GQOF"
      },
      "execution_count": null,
      "outputs": []
    },
    {
      "cell_type": "markdown",
      "source": [
        "regression example"
      ],
      "metadata": {
        "id": "Lpig_hKNHQpP"
      }
    },
    {
      "cell_type": "code",
      "source": [
        "%matplotlib inline\n",
        "import matplotlib.pyplot as plt\n",
        "import numpy as np\n",
        "rng = np.random.RandomState(35)\n",
        "x = 10*rng.rand(40)\n",
        "y = 2*x-1+rng.randn(40)\n",
        "plt.scatter(x,y);"
      ],
      "metadata": {
        "colab": {
          "base_uri": "https://localhost:8080/",
          "height": 268
        },
        "id": "jhEty7q2HSxZ",
        "outputId": "c8e3be64-600e-4024-937a-a46f3a27ce58"
      },
      "execution_count": 5,
      "outputs": [
        {
          "output_type": "display_data",
          "data": {
            "image/png": "[encoded data removed]",
            "text/plain": [
              "<Figure size 432x288 with 1 Axes>"
            ]
          },
          "metadata": {
            "needs_background": "light"
          }
        }
      ]
    },
    {
      "cell_type": "code",
      "source": [
        "from sklearn.linear_model import LinearRegression\n",
        "\n",
        "model = LinearRegression(fit_intercept=True)\n",
        "model"
      ],
      "metadata": {
        "colab": {
          "base_uri": "https://localhost:8080/"
        },
        "id": "B1Y8Kya3HVC5",
        "outputId": "6d607139-5139-47d5-d7cc-30ddeca80086"
      },
      "execution_count": 6,
      "outputs": [
        {
          "output_type": "execute_result",
          "data": {
            "text/plain": [
              "LinearRegression()"
            ]
          },
          "metadata": {},
          "execution_count": 6
        }
      ]
    },
    {
      "cell_type": "code",
      "source": [
        "x.shape\n",
        "#it should be (40,1)"
      ],
      "metadata": {
        "colab": {
          "base_uri": "https://localhost:8080/"
        },
        "id": "w5z8iONmHslB",
        "outputId": "15507003-2d0a-496a-f5c0-ac04be92f780"
      },
      "execution_count": 11,
      "outputs": [
        {
          "output_type": "execute_result",
          "data": {
            "text/plain": [
              "(40,)"
            ]
          },
          "metadata": {},
          "execution_count": 11
        }
      ]
    },
    {
      "cell_type": "code",
      "source": [
        "#to increase the dimension of numpy array we should use np.newaxis\n",
        "X = x[np.newaxis,:]\n",
        "X.shape"
      ],
      "metadata": {
        "colab": {
          "base_uri": "https://localhost:8080/"
        },
        "id": "1rkZOZWeIvpo",
        "outputId": "650541a2-7b5e-45ba-dad2-d8d3c2539d29"
      },
      "execution_count": 12,
      "outputs": [
        {
          "output_type": "execute_result",
          "data": {
            "text/plain": [
              "(1, 40)"
            ]
          },
          "metadata": {},
          "execution_count": 12
        }
      ]
    },
    {
      "cell_type": "code",
      "source": [
        "X = x[:,np.newaxis]\n",
        "X.shape"
      ],
      "metadata": {
        "colab": {
          "base_uri": "https://localhost:8080/"
        },
        "id": "Unrv9-MJJErn",
        "outputId": "b98411f0-8ead-41a8-a2a2-75574b58f6fa"
      },
      "execution_count": 13,
      "outputs": [
        {
          "output_type": "execute_result",
          "data": {
            "text/plain": [
              "(40, 1)"
            ]
          },
          "metadata": {},
          "execution_count": 13
        }
      ]
    },
    {
      "cell_type": "code",
      "source": [
        "model.fit(X,y)"
      ],
      "metadata": {
        "colab": {
          "base_uri": "https://localhost:8080/"
        },
        "id": "HY5W4fesJOsC",
        "outputId": "d537e84d-4f4a-4719-a165-2f7815bafcba"
      },
      "execution_count": 14,
      "outputs": [
        {
          "output_type": "execute_result",
          "data": {
            "text/plain": [
              "LinearRegression()"
            ]
          },
          "metadata": {},
          "execution_count": 14
        }
      ]
    },
    {
      "cell_type": "code",
      "source": [
        "#slope of the model\n",
        "print(f\" slop is {model.coef_}\")\n",
        "#intercept of the model\n",
        "print(f\" the intercept is {model.intercept_}\")"
      ],
      "metadata": {
        "colab": {
          "base_uri": "https://localhost:8080/"
        },
        "id": "vfCHVP4qJa9T",
        "outputId": "e2d751ae-7cc8-482e-d0e9-b0af4f7f67f5"
      },
      "execution_count": 17,
      "outputs": [
        {
          "output_type": "stream",
          "name": "stdout",
          "text": [
            " slop is [1.99839352]\n",
            " the intercept is -0.989545945777504\n"
          ]
        }
      ]
    },
    {
      "cell_type": "code",
      "source": [
        "xfit = np.linspace(-1, 11)\n",
        "Xfit = xfit[:, np.newaxis]\n",
        "yfit = model.predict(Xfit)\n",
        "plt.scatter(x, y)\n",
        "plt.plot(xfit, yfit);"
      ],
      "metadata": {
        "colab": {
          "base_uri": "https://localhost:8080/",
          "height": 268
        },
        "id": "l3ABfhv0KUUA",
        "outputId": "65bf242a-bb68-44fa-b91c-2a8adb0fbcaf"
      },
      "execution_count": 18,
      "outputs": [
        {
          "output_type": "display_data",
          "data": {
            "image/png": "[encoded data removed]",
            "text/plain": [
              "<Figure size 432x288 with 1 Axes>"
            ]
          },
          "metadata": {
            "needs_background": "light"
          }
        }
      ]
    },
    {
      "cell_type": "markdown",
      "source": [
        "unsupervised example"
      ],
      "metadata": {
        "id": "wJgOMG5fKdCk"
      }
    },
    {
      "cell_type": "code",
      "source": [
        "from sklearn.decomposition import PCA\n",
        "\n",
        "model = PCA(n_components=2)\n",
        "model"
      ],
      "metadata": {
        "colab": {
          "base_uri": "https://localhost:8080/"
        },
        "id": "ROWRFiVwKfW3",
        "outputId": "6455c67a-4628-4e59-c956-5049ad48eccd"
      },
      "execution_count": 19,
      "outputs": [
        {
          "output_type": "execute_result",
          "data": {
            "text/plain": [
              "PCA(n_components=2)"
            ]
          },
          "metadata": {},
          "execution_count": 19
        }
      ]
    },
    {
      "cell_type": "code",
      "source": [
        "from sklearn.datasets import load_iris\n",
        "\n",
        "iris = load_iris()\n",
        "X = iris.data\n",
        "Y = iris.target\n",
        "X.shape"
      ],
      "metadata": {
        "colab": {
          "base_uri": "https://localhost:8080/"
        },
        "id": "3Eo0IEr2Kv-H",
        "outputId": "a11a5cb5-10ae-4655-fe26-a1605baf70bb"
      },
      "execution_count": 20,
      "outputs": [
        {
          "output_type": "execute_result",
          "data": {
            "text/plain": [
              "(150, 4)"
            ]
          },
          "metadata": {},
          "execution_count": 20
        }
      ]
    },
    {
      "cell_type": "code",
      "source": [
        "model.fit(X)"
      ],
      "metadata": {
        "colab": {
          "base_uri": "https://localhost:8080/"
        },
        "id": "8GE_7KYkLFiw",
        "outputId": "832ac284-d070-4a29-be06-3143e37c3390"
      },
      "execution_count": 21,
      "outputs": [
        {
          "output_type": "execute_result",
          "data": {
            "text/plain": [
              "PCA(n_components=2)"
            ]
          },
          "metadata": {},
          "execution_count": 21
        }
      ]
    },
    {
      "cell_type": "code",
      "source": [
        "import seaborn as sns\n",
        "import matplotlib as plt\n",
        "X_2D = model.transform(X)\n",
        "iris['PCA1'] = X_2D[:, 0]\n",
        "iris['PCA2'] = X_2D[:, 1]"
      ],
      "metadata": {
        "id": "40y7rz2KLMDO"
      },
      "execution_count": 27,
      "outputs": []
    }
  ]
}