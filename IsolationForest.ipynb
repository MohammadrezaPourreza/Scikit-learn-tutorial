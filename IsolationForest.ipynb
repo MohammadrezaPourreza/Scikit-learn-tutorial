{
  "nbformat": 4,
  "nbformat_minor": 0,
  "metadata": {
    "colab": {
      "name": "IsolationForest.ipynb",
      "provenance": [],
      "authorship_tag": "ABX9TyPf8HDKya2FTh6zDA0tRdj2",
      "include_colab_link": true
    },
    "kernelspec": {
      "name": "python3",
      "display_name": "Python 3"
    },
    "language_info": {
      "name": "python"
    }
  },
  "cells": [
    {
      "cell_type": "markdown",
      "metadata": {
        "id": "view-in-github",
        "colab_type": "text"
      },
      "source": [
        "<a href=\"https://colab.research.google.com/github/MohammadrezaPourreza/Scikit-learn-tutorial/blob/main/IsolationForest.ipynb\" target=\"_parent\"><img src=\"https://colab.research.google.com/assets/colab-badge.svg\" alt=\"Open In Colab\"/></a>"
      ]
    },
    {
      "cell_type": "markdown",
      "source": [
        "This algorithm assume that regular data comes from a known distribution such as Gaussian distribution."
      ],
      "metadata": {
        "id": "eWhEx11zP6H_"
      }
    },
    {
      "cell_type": "markdown",
      "source": [
        "This object fits a robust covariance estimate to the data, and thus, fits an ellipse to the central data points. It ignores the points outside the central mode."
      ],
      "metadata": {
        "id": "_Piml8uLP7hy"
      }
    },
    {
      "cell_type": "markdown",
      "source": [
        "The scikit-learn provides ensemble.IsolationForest method that isolates the observations by randomly selecting a feature. Afterwards, it randomly selects a value between the maximum and minimum values of the selected features.\n",
        "\n",
        "Here, the number of splitting needed to isolate a sample is equivalent to path length from the root node to the terminating node."
      ],
      "metadata": {
        "id": "ycfMG7TMg7-G"
      }
    },
    {
      "cell_type": "markdown",
      "source": [
        "PARAMETERS"
      ],
      "metadata": {
        "id": "Qba4RpjXQHqt"
      }
    },
    {
      "cell_type": "markdown",
      "source": [
        "n_estimators − int, optional, default = 100\n",
        "\n",
        "It represents the number of base estimators in the ensemble."
      ],
      "metadata": {
        "id": "SwAJ5grWg81G"
      }
    },
    {
      "cell_type": "markdown",
      "source": [
        "\t\n",
        "max_samples − int or float, optional, default = “auto”\n",
        "\n",
        "It represents the number of samples to be drawn from X to train each base estimator. If we choose int as its value, it will draw max_samples samples. If we choose float as its value, it will draw max_samples ∗ 𝑋.shape[0] samples. And, if we choose auto as its value, it will draw max_samples = min(256,n_samples)."
      ],
      "metadata": {
        "id": "L2uI7uAvg-ew"
      }
    },
    {
      "cell_type": "markdown",
      "source": [
        "support_fraction − float in (0., 1.), optional, default = None\n",
        "\n",
        "This parameter tells the method that how much proportion of points to be included in the support of the raw MCD estimates."
      ],
      "metadata": {
        "id": "YXkhQDNjhL1A"
      }
    },
    {
      "cell_type": "markdown",
      "source": [
        "contamination − auto or float, optional, default = auto\n",
        "\n",
        "It provides the proportion of the outliers in the data set. If we set it default i.e. auto, it will determine the threshold as in the original paper. If set to float, the range of contamination will be in the range of [0,0.5]."
      ],
      "metadata": {
        "id": "bdanl4sChUK0"
      }
    },
    {
      "cell_type": "markdown",
      "source": [
        "max_features − int or float, optional (default = 1.0)\n",
        "\n",
        "It represents the number of features to be drawn from X to train each base estimator. If we choose int as its value, it will draw max_features features. If we choose float as its value, it will draw max_features * X.shape[𝟏] samples."
      ],
      "metadata": {
        "id": "-XgsoUxahZra"
      }
    },
    {
      "cell_type": "markdown",
      "source": [
        "bootstrap − Boolean, optional (default = False)\n",
        "\n",
        "Its default option is False which means the sampling would be performed without replacement. And on the other hand, if set to True, means individual trees are fit on a random subset of the training data sampled with replacement."
      ],
      "metadata": {
        "id": "hERwYr9dheTQ"
      }
    },
    {
      "cell_type": "code",
      "source": [
        "from sklearn.ensemble import IsolationForest\n",
        "import numpy as np\n",
        "X = np.array([[-1, -2], [-3, -3], [-3, -4], [0, 0], [-50, 60]])\n",
        "OUTDClf = IsolationForest(n_estimators = 10)\n",
        "OUTDClf.fit(X)"
      ],
      "metadata": {
        "colab": {
          "base_uri": "https://localhost:8080/"
        },
        "id": "ANrGh63OiKEL",
        "outputId": "9502914b-47c6-41ee-cf06-e9502d26273b"
      },
      "execution_count": 4,
      "outputs": [
        {
          "output_type": "execute_result",
          "data": {
            "text/plain": [
              "IsolationForest(n_estimators=10)"
            ]
          },
          "metadata": {},
          "execution_count": 4
        }
      ]
    }
  ]
}